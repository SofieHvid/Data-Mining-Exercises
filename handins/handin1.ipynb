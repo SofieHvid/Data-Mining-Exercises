{
 "cells": [
  {
   "attachments": {},
   "cell_type": "markdown",
   "id": "overall-spider",
   "metadata": {},
   "source": [
    "# Data Mining - Handin 1 - Clustering \n",
    "Welcome to the handin on clustering algorithms and outlier detection. \n",
    "This handin corresponds to the topics in Week 5--9 in the course.\n",
    "\n",
    "The handin is \n",
    "* done in the chosen handin groups\n",
    "* worth 10% of the final grade\n",
    "\n",
    "For the handin, you will prepare a report in PDF format, by exporting the Jupyter notebook. \n",
    "Please submit\n",
    "1. The jupyter notebook file with your answers\n",
    "2. The PDF obtained by exporting the jupyter notebook\n",
    "\n",
    "**The grading system**: Tasks are assigned a number of points based on the difficulty and time to solve it. The sum of the number of points is 100. For the maximum grade you need to get at least _80 points_. The minimum grade (02 in the Danish scale)\n",
    "requires **at least** 30 points, with at least 8 points from the first three Parts (Part 1,2,3) and 6 points in the last part (Part 4).\n",
    "\n",
    "**The exercise types**: There are four different types of exercises\n",
    "1. <span style='color: green'>**\\[Compute by hand\\]**</span> means that you should provide NO code, but show the main steps to reach the result (not all). \n",
    "2. <span style='color: green'>**\\[Motivate\\]**</span> means to provide a short answer of 1-5 lines indicating the main reasoning, e.g., the PageRank of a complete graph is 1/n in all nodes as all nodes are symmetric and are connected one another.\n",
    "3. <span style='color: green'>**\\[Prove\\]**</span> means to provide a formal argument and NO code. \n",
    "4. <span style='color: green'>**\\[Implement\\]**</span> means to provide an implementation. Unless otherwise specified, you are allowed to use helper functions (e.g., ```np.mean```, ```itertools.combinations```, and so on). **However**, if the task is to implement an algorithm, by no means a call to a library that implements the same algorithm will be deemed as sufficient!\n",
    "\n",
    "**Q&A**\n",
    "\n",
    "Q: If the task is to implement a mean function, may I just call ```np.mean()```? \n",
    "<br>A: No.\n",
    "\n",
    "Q: If the task is to compare the mean of X and Y, may I use ```np.mean()``` to calculate the mean?\n",
    "<br>A: Yes.\n",
    "\n",
    "Q: If I have implemented a mean function in a previous task, but I am unsure of its correctness, may I use ```np.mean()``` in following task where mean is used as a helper function? \n",
    "<br>A: Yes.\n",
    "\n",
    "Q: May I use ```np.mean()``` to debug my implementation of mean?\n",
    "<br>A: Yes.\n",
    "\n",
    "Q: Do I get 0 points for a task if I skip it?\n",
    "<br>A: Yes.\n",
    "\n",
    "Q: Can I get partial points for a task I did partially correct?\n",
    "<br>A: Yes.\n",
    "\n",
    "Q: Is it OK to skip a task if I do not need the points from it?\n",
    "<br>A: Yes.\n",
    "\n",
    "Q: Should I inform a TA if I find an error?\n",
    "<br>A: Yes.\n",
    "\n",
    "Q: Should I ask questions if I am confused?\n",
    "<br>A: Yes.\n",
    "\n",
    "\n",
    "\n",
    "Good luck!"
   ]
  },
  {
   "cell_type": "code",
   "execution_count": 1,
   "id": "loaded-nicholas",
   "metadata": {},
   "outputs": [],
   "source": [
    "## DO NOT TOUCH\n",
    "import numpy as np\n",
    "import pandas as pd\n",
    "import warnings\n",
    "from sklearn.cluster import KMeans, DBSCAN\n",
    "from sklearn.preprocessing import StandardScaler\n",
    "import time\n",
    "import seaborn as sns\n",
    "\n",
    "RANDOM_SEED = 132419\n",
    "## DO NOT TOUCH\n",
    "warnings.filterwarnings('ignore')\n",
    "%matplotlib inline\n",
    "import matplotlib.pyplot as plt\n",
    "\n",
    "df = pd.read_csv(\"./data/dota2.csv\")\n",
    "color_map = {'Intelligence':'Blue', 'Universal':'Yellow', 'Agility':'Green', 'Strength':'Red'}\n",
    "toy = df[df['A'].isin(['Agility', 'Strength'])].sample(n=10, random_state=RANDOM_SEED)"
   ]
  },
  {
   "cell_type": "markdown",
   "id": "reduced-regression",
   "metadata": {},
   "source": [
    "# Part 1 Intro Excercises\n",
    "\n",
    "## Task 1.1 K-Means and DBScan\n",
    "\n",
    "### Task 1.1.1 (4 points)\n",
    "<span style='color: green'>**\\[Compute by hand\\]**</span> the cluster assignments _for the dataset below_ using k-means and $k = 2$, with initial centroids being (25, 12) and (21,20)\n",
    "\n",
    "<font color='red'>To evaluate (i.e., only to control the correctness and not to solve the exercise) your results you can use **sklearn.cluster.KMeans**.</font>\n"
   ]
  },
  {
   "cell_type": "code",
   "execution_count": 2,
   "id": "annoying-mapping",
   "metadata": {},
   "outputs": [
    {
     "data": {
      "text/plain": [
       "(19.65, 27.35, 9.2, 26.8)"
      ]
     },
     "execution_count": 2,
     "metadata": {},
     "output_type": "execute_result"
    },
    {
     "data": {
      "image/png": "[encoded data removed]",
      "text/plain": [
       "<Figure size 640x480 with 1 Axes>"
      ]
     },
     "metadata": {},
     "output_type": "display_data"
    }
   ],
   "source": [
    "first = 'STR'\n",
    "last = 'AGI'\n",
    "\n",
    "X_kmeans = toy[[first, last]]\n",
    "\n",
    "plt.scatter(X_kmeans[first], X_kmeans[last], alpha=0.8, c=toy['A'].map(color_map))\n",
    "plt.axis('equal')"
   ]
  },
  {
   "cell_type": "markdown",
   "id": "collective-matter",
   "metadata": {},
   "source": [
    "*******************\n",
    "**YOUR ANSWER HERE**\n",
    "\n",
    "Using Lloyd's Algorithm.\n",
    "\n",
    "We assign the points to the cluster with the nearest centroid (using euclidean distance). The class $j$ for point $\\mathbf{x}$ can be assigned by (for 2 dimensions):\n",
    "\n",
    "$$\n",
    "j = \\arg \\min_{i} || \\mathbf{x} - \\mathbf{\\mu}_i || =  \\arg \\min_{i}  \\sqrt{(x_1 - \\mu_{i, 1})^2 + (x_2 - \\mu_{i, 2})^2}\n",
    "$$\n",
    "\n",
    "As an example, we use the point $\\mathbf{x} = $ `(21, 21)`. The cluster with centroid in (25, 12) is named cluster 1, and cluster with centroid in (21, 20) is named clutser 2.\n",
    "\n",
    "\\begin{aligned}\n",
    "\\text{Distance to Cluster 1} = \\sqrt{(25 - 21)^2 + (12 - 21)^2} \\approx 9.85; && \\text{Distance to Cluster 2} = \\sqrt{(21 - 21)^2 + (20 - 21)^2} = 1.0\n",
    "\\end{aligned}\n",
    "\n",
    "Since cluster 2 with centroid (21, 20) has the smallest distance to $\\mathbf{x}$, $\\mathbf{x}$ is assigned to cluster 2.\n",
    "\n",
    "The remaining points are assigned using the same method. Computations are omitted.\n",
    "\n",
    "\n",
    "\n",
    "\\begin{array}{cccccc}\n",
    "\\text{Point} & \\text{Cluster Assignment} & \\text{Distance to Cluster 1} & \\text{Distance to Cluster 2} \\\\\n",
    "\\hline\n",
    "(21, 21) & \\text{Cluster 2} & 9.85 & 1.0 \\\\\n",
    "(27, 15) & \\text{Cluster 1} & 3.61 & 7.81 \\\\\n",
    "(22, 10) & \\text{Cluster 1} & 3.61 & 10.05 \\\\\n",
    "(25, 18) & \\text{Cluster 2} & 6.0 & 4.47 \\\\\n",
    "(24, 17) & \\text{Cluster 2} & 5.10 & 4.24 \\\\\n",
    "(24, 22) & \\text{Cluster 2} & 10.05 & 3.61 \\\\\n",
    "(23, 15) & \\text{Cluster 1} & 3.61 & 5.39 \\\\\n",
    "(20, 21) & \\text{Cluster 2} & 10.3 & 1.41 \\\\\n",
    "(21, 17) & \\text{Cluster 2} & 6.4 & 3.0 \\\\\n",
    "(22, 26) & \\text{Cluster 2} & 14.32 & 6.08 \\\\\n",
    "\\end{array}\n",
    "\n",
    "\n",
    "With the points assigned, we compute the new centroids for each cluster. The centroids are computed using: \n",
    "\n",
    "$$\n",
    "\\mathbf{\\mu}_i = \\frac{1}{|C_i|} \\sum_{\\mathbf{x} \\in C_i} \\mathbf{x}\n",
    "$$\n",
    "\n",
    "As an example we will compute the centroid for cluster 1\n",
    "\n",
    "$$\n",
    "\\mathbf{\\mu}_1 = \\frac{1}{3} \\left( \\begin{pmatrix} 27 \\\\ 15 \\end{pmatrix} + \\begin{pmatrix} 22 \\\\ 10 \\end{pmatrix} + \\begin{pmatrix} 23 \\\\ 15 \\end{pmatrix} \\right) = \\frac{1}{3} \\begin{pmatrix} 27 \\\\ 40 \\end{pmatrix} =  \\begin{pmatrix} 24.0 \\\\ 13.33 \\end{pmatrix} \n",
    "$$\n",
    "\n",
    "Computations for cluster 2 are omitted, but follow the same procedure. The new centroid for clutser 2 is \n",
    "$$\n",
    "\\mathbf{\\mu}_2 = \\begin{pmatrix} 22.43 \\\\ 20.29 \\end{pmatrix}\n",
    "$$\n",
    "\n",
    "With the new centroids, we re-compute the cluster assignment of the points using the same method as before. The new assignments are:\n",
    "\n",
    "\\begin{array}{cccccc}\n",
    "\\text{Point} & \\text{Cluster Assignment} & \\text{Distance to Cluster 1} & \\text{Distance to Cluster 2} \\\\\n",
    "\\hline\n",
    "(21, 21) & \\text{Cluster 2} & 8.23 & 1.6 \\\\\n",
    "(27, 15) & \\text{Cluster 1} & 3.43 & 6.99 \\\\\n",
    "(22, 10) & \\text{Cluster 1} & 3.89 & 10.29 \\\\\n",
    "(25, 18) & \\text{Cluster 2} & 4.77 & 3.44 \\\\\n",
    "(24, 17) & \\text{Cluster 2} & 3.67 & 3.64 \\\\\n",
    "(24, 22) & \\text{Cluster 2} & 8.67 & 2.33 \\\\\n",
    "(23, 15) & \\text{Cluster 1} & 1.94 & 5.32 \\\\\n",
    "(20, 21) & \\text{Cluster 2} & 8.65 & 2.53 \\\\\n",
    "(21, 17) & \\text{Cluster 2} & 4.74 & 3.58 \\\\\n",
    "(22, 26) & \\text{Cluster 2} & 12.82 & 5.73 \\\\\n",
    "\\end{array}\n",
    "\n",
    "As the cluster assignment has not changed, neither will the centroid coordinates and the algorithm has converged. The above cluster assignment is the final assignment.\n",
    "\n",
    "******************"
   ]
  },
  {
   "cell_type": "code",
   "execution_count": 3,
   "metadata": {},
   "outputs": [
    {
     "name": "stdout",
     "output_type": "stream",
     "text": [
      "Cluster Assignments: [2 1 1 2 2 2 1 2 2 2]\n",
      "Final Centroids: [[24.         13.33333333]\n",
      " [22.42857143 20.28571429]]\n"
     ]
    }
   ],
   "source": [
    "initial_centroids = np.array([[25, 12], [21, 20]])\n",
    "\n",
    "# Create KMeans object with 2 clusters and initialize centroids\n",
    "kmeans = KMeans(n_clusters=2, init=initial_centroids)\n",
    "\n",
    "# Fit the KMeans model to your data\n",
    "kmeans.fit(X_kmeans)\n",
    "\n",
    "# Get cluster assignments and centroids\n",
    "cluster_assignments = kmeans.labels_\n",
    "centroids = kmeans.cluster_centers_\n",
    "\n",
    "# Print results\n",
    "print(\"Cluster Assignments:\", cluster_assignments + 1)\n",
    "print(\"Final Centroids:\", centroids)"
   ]
  },
  {
   "cell_type": "code",
   "execution_count": 4,
   "metadata": {},
   "outputs": [
    {
     "name": "stdout",
     "output_type": "stream",
     "text": [
      "Point Assignments:\n",
      "[2 1 1 2 2 2 1 2 2 2]\n"
     ]
    },
    {
     "data": {
      "image/png": "[encoded data removed]",
      "text/plain": [
       "<Figure size 640x480 with 1 Axes>"
      ]
     },
     "metadata": {},
     "output_type": "display_data"
    }
   ],
   "source": [
    "points = np.array(X_kmeans)\n",
    "\n",
    "centroid1 = np.array([25, 12])\n",
    "centroid2 = np.array([21, 20])\n",
    "distances = np.array([np.linalg.norm(points - centroid1, axis=1), np.linalg.norm(points - centroid2, axis=1)])\n",
    "\n",
    "assignments = np.argmin(np.array([np.linalg.norm(points - centroid1, axis=1),\n",
    "                                  np.linalg.norm(points - centroid2, axis=1)]), axis=0) + 1\n",
    "\n",
    "centroid1 = np.mean(np.array(X_kmeans)[np.where(assignments == 1)], axis=0)\n",
    "centroid2 = np.mean(np.array(X_kmeans)[np.where(assignments == 2)], axis=0)\n",
    "\n",
    "distances = np.array([np.linalg.norm(points - centroid1, axis=1), np.linalg.norm(points - centroid2, axis=1)])\n",
    "assignments = np.argmin(np.array([np.linalg.norm(points - centroid1, axis=1),\n",
    "                                  np.linalg.norm(points - centroid2, axis=1)]), axis=0) + 1\n",
    "\n",
    "plt.scatter(X_kmeans[first], X_kmeans[last], alpha=0.5, c=assignments, cmap='RdYlGn')\n",
    "plt.scatter([centroid1[0], centroid2[0]], [centroid1[1], centroid2[1]], alpha = 1, marker='X', c=[3, 4], label='Centroids', cmap='RdYlGn')\n",
    "plt.axis('equal')\n",
    "\n",
    "plt.savefig('figures/task1.1.1.png')\n",
    "\n",
    "print(\"Point Assignments:\")\n",
    "print(assignments)"
   ]
  },
  {
   "cell_type": "markdown",
   "id": "alive-somerset",
   "metadata": {},
   "source": [
    "### Task 1.1.2 (2 point)\n",
    "<span style='color: green'>**\\[Compute by hand\\]**</span> <br>\n",
    "A) Show two examples with two different initial cluster assignments that lead to a different result. <br>"
   ]
  },
  {
   "cell_type": "markdown",
   "id": "functional-vertex",
   "metadata": {},
   "source": [
    "*******************\n",
    "\n",
    "##### Example 1\n",
    "\n",
    "Using the previous task as an example, if we initate the centroids with following coordinates, we end up with a different final clustering: \n",
    "$$\n",
    "\\begin{align*}\n",
    "\\mathbf{\\mu}_1 = \\begin{pmatrix} 25 \\\\ 16 \\end{pmatrix} && \\mathbf{\\mu}_2 = \\begin{pmatrix} 21 \\\\ 24 \\end{pmatrix}\n",
    "\\end{align*}\n",
    "$$\n",
    "\n",
    "Using the same algorithm/approach as shown in task 1.1.1, we get the following cluster assignment using the initial centroids: \n",
    "\n",
    "\n",
    "\\begin{array}{cccccc}\n",
    "\\text{Point} & \\text{Cluster Assignment} & \\text{Distance to Cluster 1} & \\text{Distance to Cluster 2} \\\\\n",
    "\\hline\n",
    "(21, 21) & \\text{Cluster 2} & 6.4 & 3.0 \\\\\n",
    "(27, 15) & \\text{Cluster 1} & 2.24 & 10.82 \\\\\n",
    "(22, 10) & \\text{Cluster 1} & 6.71 & 14.04 \\\\\n",
    "(25, 18) & \\text{Cluster 1} & 2.0 & 7.21 \\\\\n",
    "(24, 17) & \\text{Cluster 1} & 1.41 & 7.62 \\\\\n",
    "(24, 22) & \\text{Cluster 2} & 6.08 & 3.61 \\\\\n",
    "(23, 15) & \\text{Cluster 1} & 2.24 & 9.22 \\\\\n",
    "(20, 21) & \\text{Cluster 2} & 7.07 & 3.16 \\\\\n",
    "(21, 17) & \\text{Cluster 1} & 4.12 & 7.0 \\\\\n",
    "(22, 26) & \\text{Cluster 2} & 10.44 & 2.24 \\\\\n",
    "\\end{array}\n",
    "\n",
    "Using the cluster assignment, we reevaluate our centroid values and get the following: \n",
    "\n",
    "$$\n",
    "\\begin{align*}\n",
    "\\mathbf{\\mu}_1 = \\begin{pmatrix} 23.67 \\\\ 15.33 \\end{pmatrix} && \\mathbf{\\mu}_2 = \\begin{pmatrix} 21.75 \\\\ 22.5 \\end{pmatrix}\n",
    "\\end{align*}\n",
    "$$\n",
    "\n",
    "Once again, we compute the cluster assignment using the new points:\n",
    "\n",
    "\\begin{array}{cccccc}\n",
    "\\text{Point} & \\text{Cluster Assignment} & \\text{Distance to Cluster 1} & \\text{Distance to Cluster 2} \\\\\n",
    "\\hline\n",
    "(21, 21) & \\text{Cluster 2} & 6.26 & 1.68 \\\\\n",
    "(27, 15) & \\text{Cluster 1} & 3.35 & 9.15 \\\\\n",
    "(22, 10) & \\text{Cluster 1} & 5.59 & 12.5 \\\\\n",
    "(25, 18) & \\text{Cluster 1} & 2.98 & 5.55 \\\\\n",
    "(24, 17) & \\text{Cluster 1} & 1.7 & 5.94 \\\\\n",
    "(24, 22) & \\text{Cluster 2} & 6.67 & 2.3 \\\\\n",
    "(23, 15) & \\text{Cluster 1} & 0.75 & 7.6 \\\\\n",
    "(20, 21) & \\text{Cluster 2} & 6.75 & 2.3 \\\\\n",
    "(21, 17) & \\text{Cluster 1} & 3.14 & 5.55 \\\\\n",
    "(22, 26) & \\text{Cluster 2} & 10.8 & 3.51 \\\\\n",
    "\\end{array}\n",
    "\n",
    "Since the cluster assignmet hasn't changed, neither will the centroid values. Hence our algorithm has converged.\n",
    "As shown, we get a different clustering than in the previous task.\n",
    "\n",
    "\n"
   ]
  },
  {
   "cell_type": "code",
   "execution_count": 5,
   "metadata": {},
   "outputs": [
    {
     "name": "stdout",
     "output_type": "stream",
     "text": [
      "second iter: [2 1 1 1 1 2 1 2 1 2], [[ 6.4   3.  ]\n",
      " [ 2.24 10.82]\n",
      " [ 6.71 14.04]\n",
      " [ 2.    7.21]\n",
      " [ 1.41  7.62]\n",
      " [ 6.08  3.61]\n",
      " [ 2.24  9.22]\n",
      " [ 7.07  3.16]\n",
      " [ 4.12  7.  ]\n",
      " [10.44  2.24]], C1: [23.66666667 15.33333333], C2: [21.75 22.5 ]\n",
      "Point Assignments:\n",
      "[2 1 1 1 1 2 1 2 1 2]\n"
     ]
    },
    {
     "data": {
      "image/png": "[encoded data removed]",
      "text/plain": [
       "<Figure size 640x480 with 1 Axes>"
      ]
     },
     "metadata": {},
     "output_type": "display_data"
    }
   ],
   "source": [
    "points = np.array(X_kmeans)\n",
    "\n",
    "centroid1 = np.array([25, 16])\n",
    "centroid2 = np.array([21, 24])\n",
    "distances = np.array([np.linalg.norm(points - centroid1, axis=1), np.linalg.norm(points - centroid2, axis=1)])\n",
    "\n",
    "assignments = np.argmin(np.array([np.linalg.norm(points - centroid1, axis=1),\n",
    "                                  np.linalg.norm(points - centroid2, axis=1)]), axis=0) + 1\n",
    "\n",
    "centroid1 = np.mean(np.array(X_kmeans)[np.where(assignments == 1)], axis=0)\n",
    "centroid2 = np.mean(np.array(X_kmeans)[np.where(assignments == 2)], axis=0)\n",
    "\n",
    "\n",
    "print(f\"second iter: {assignments}, {distances.T.round(2)}, C1: {centroid1}, C2: {centroid2}\")\n",
    "\n",
    "distances = np.array([np.linalg.norm(points - centroid1, axis=1), np.linalg.norm(points - centroid2, axis=1)])\n",
    "assignments = np.argmin(np.array([np.linalg.norm(points - centroid1, axis=1),\n",
    "                                  np.linalg.norm(points - centroid2, axis=1)]), axis=0) + 1\n",
    "\n",
    "\n",
    "plt.scatter(X_kmeans[first], X_kmeans[last], alpha=0.5, c=assignments, cmap='RdYlGn')\n",
    "plt.scatter([centroid1[0], centroid2[0]], [centroid1[1], centroid2[1]], alpha = 1, marker='X', c=[3, 4], label='Centroids', cmap='RdYlGn')\n",
    "plt.axis('equal')\n",
    "\n",
    "plt.savefig('figures/task1.1.2_example1.png')\n",
    "\n",
    "print(\"Point Assignments:\")\n",
    "print(assignments)"
   ]
  },
  {
   "cell_type": "code",
   "execution_count": 6,
   "metadata": {},
   "outputs": [
    {
     "name": "stdout",
     "output_type": "stream",
     "text": [
      "[23.66666667 21.75      ]\n",
      "Cluster Assignments: [2 1 1 1 1 2 1 2 1 2]\n",
      "Final Centroids: [[23.66666667 15.33333333]\n",
      " [21.75       22.5       ]]\n"
     ]
    }
   ],
   "source": [
    "initial_centroids = np.array([[25, 16], [21, 24]])\n",
    "\n",
    "# Create KMeans object with 2 clusters and initialize centroids\n",
    "kmeans = KMeans(n_clusters=2, init=initial_centroids)\n",
    "\n",
    "# Fit the KMeans model to your data\n",
    "kmeans.fit(X_kmeans)\n",
    "\n",
    "# Get cluster assignments and centroids\n",
    "cluster_assignments = kmeans.labels_\n",
    "centroids = kmeans.cluster_centers_\n",
    "print(centroids[:,0])\n",
    "# Print results\n",
    "print(\"Cluster Assignments:\", cluster_assignments + 1)\n",
    "print(\"Final Centroids:\", centroids)"
   ]
  },
  {
   "cell_type": "markdown",
   "metadata": {},
   "source": [
    "##### Example 2\n",
    "\n",
    "As a very simple example, we have a one dimensional data set consisting of the points (1, 2, 4, 6, 8, 9, 10, 12)\n",
    "\n",
    "We compute to different assigments using two different cluster initializations:\n",
    "\n",
    "Centroid 1 = 2, centroid 2 = 9\n",
    "\n",
    "Centroid 1 = 5, centroid 2 = 10\n",
    "\n",
    "\n",
    "Cluster assigment using euclidean distance in one dimension becomes:\n",
    "\n",
    "$$\n",
    "j =   \\arg \\min_{i}  |x - \\mu_{i, 1}|\n",
    "$$\n",
    "\n",
    "Using the measure above, we get the following assigments for the data points:\n",
    "$$\n",
    "\\begin{array}{|cccccc|}\n",
    "\\text{Point} & \\text{Cluster Assignment} & \\text{Dist. to Cluster 1} & \\text{Dist. to Cluster 2} \\\\\n",
    "\\hline\n",
    "1 & \\text{Cluster 1} & 1 & 8 \\\\\n",
    "2 & \\text{Cluster 1} & 0 & 7 \\\\\n",
    "4 & \\text{Cluster 1} & 2 & 5 \\\\\n",
    "6 & \\text{Cluster 2} & 4 & 3 \\\\\n",
    "8 & \\text{Cluster 2} & 6 & 1 \\\\\n",
    "9 & \\text{Cluster 2} & 7 & 0 \\\\\n",
    "10 & \\text{Cluster 2} & 8 & 1 \\\\\n",
    "12 & \\text{Cluster 2} & 10 & 3 \\\\\n",
    "\\end{array} \\quad \n",
    "\n",
    "\\begin{array}{|cccccc|}\n",
    "\\text{Cluster Assignment} & \\text{Dist. to Cluster 1} & \\text{Dist. to Cluster 2} \\\\\n",
    "\\hline\n",
    "\\text{Cluster 1} & 4 & 9 \\\\\n",
    "\\text{Cluster 1} & 3 & 8 \\\\\n",
    "\\text{Cluster 1} & 1 & 6 \\\\\n",
    "\\text{Cluster 1} & 1 & 4 \\\\\n",
    "\\text{Cluster 2} & 3 & 2 \\\\\n",
    "\\text{Cluster 2} & 4 & 1 \\\\\n",
    "\\text{Cluster 2} & 5 & 0 \\\\\n",
    "\\text{Cluster 2} & 7 & 2 \\\\\n",
    "\\end{array}\n",
    "$$\n",
    "\n",
    "Updating the cluster centroids for the different initializations, we get: \n",
    "\n",
    "Centroid 1 = 2.33, centroid 2 = 9\n",
    "\n",
    "Centroid 1 = 3.25, centroid 2 = 9.75\n",
    "\n",
    "Re-computing the cluster assignments, we obtain: \n",
    "\n",
    "$$\n",
    "\\begin{array}{|cccccc|}\n",
    "\\text{Point} & \\text{Cluster Assignment} & \\text{Dist. to Cluster 1} & \\text{Dist. to Cluster 2} \\\\\n",
    "\\hline\n",
    "1 & \\text{Cluster 1} & 1.33 & 8 \\\\\n",
    "2 & \\text{Cluster 1} & 0.33 & 7 \\\\\n",
    "4 & \\text{Cluster 1} & 1.67 & 5 \\\\\n",
    "6 & \\text{Cluster 2} & 3.67 & 3 \\\\\n",
    "8 & \\text{Cluster 2} & 5.67 & 1 \\\\\n",
    "9 & \\text{Cluster 2} & 6.67 & 0 \\\\\n",
    "10 & \\text{Cluster 2} & 7.67 & 1 \\\\\n",
    "12 & \\text{Cluster 2} & 9.67 & 3 \\\\\n",
    "\\end{array} \\quad \n",
    "\n",
    "\\begin{array}{|cccccc|}\n",
    "\\text{Cluster Assignment} & \\text{Dist. to Cluster 1} & \\text{Dist. to Cluster 2} \\\\\n",
    "\\hline\n",
    "\\text{Cluster 1} & 2.25 & 8.75 \\\\\n",
    "\\text{Cluster 1} & 1.25 & 7.75 \\\\\n",
    "\\text{Cluster 1} & 0.75 & 5.75 \\\\\n",
    "\\text{Cluster 1} & 2.75 & 3.75 \\\\\n",
    "\\text{Cluster 2} & 4.75 & 1.75 \\\\\n",
    "\\text{Cluster 2} & 5.75 & 0.75 \\\\\n",
    "\\text{Cluster 2} & 6.75 & 0.25 \\\\\n",
    "\\text{Cluster 2} & 8.75 & 2.25 \\\\\n",
    "\\end{array}\n",
    "$$\n",
    "\n",
    "As shown above, the cluster assignment has not changed, and so our algorithm has converged.\n",
    "The two initilizations result in different clusterings, where the assignment of the point $x=6$ depends on the initialization.\n",
    "\n",
    "******************"
   ]
  },
  {
   "cell_type": "code",
   "execution_count": 7,
   "metadata": {},
   "outputs": [
    {
     "name": "stdout",
     "output_type": "stream",
     "text": [
      "[-10  -9  -7  -5  -3  -2  -1   1]\n",
      "Cluster Assignments: [1 1 1 1 2 2 2 2]\n",
      "Final Centroids: [[3.25]\n",
      " [9.75]]\n"
     ]
    },
    {
     "data": {
      "text/plain": [
       "(0.44999999999999996, 12.55, 0.945, 1.0550000000000002)"
      ]
     },
     "execution_count": 7,
     "metadata": {},
     "output_type": "execute_result"
    },
    {
     "data": {
      "image/png": "[encoded data removed]",
      "text/plain": [
       "<Figure size 640x480 with 1 Axes>"
      ]
     },
     "metadata": {},
     "output_type": "display_data"
    }
   ],
   "source": [
    "X_1d_1 = np.array([1, 2, 4, 6, 8, 9, 10, 12])\n",
    "\n",
    "print(X_1d_1 - 11)\n",
    " \n",
    "X_1d_2 = np.ones_like(X_1d_1)\n",
    "\n",
    "initial_centroids = np.array([[8], [12]])\n",
    "\n",
    "kmeans = KMeans(n_clusters=2, init=initial_centroids)\n",
    "\n",
    "# Fit the KMeans model to your data\n",
    "kmeans.fit(X_1d_1.reshape(-1, 1))\n",
    "\n",
    "\n",
    "# Get cluster assignments and centroids\n",
    "cluster_assignments = kmeans.labels_\n",
    "centroids = kmeans.cluster_centers_\n",
    "# Print results\n",
    "print(\"Cluster Assignments:\", cluster_assignments + 1)\n",
    "print(\"Final Centroids:\", centroids)\n",
    "\n",
    "plt.scatter(X_1d_1, X_1d_2, alpha=0.5, c=cluster_assignments, cmap='RdYlGn')\n",
    "plt.scatter(centroids, np.ones_like(centroids), alpha = 1, marker='X', c=[3, 4], label='Centroids', cmap='RdYlGn')\n",
    "plt.axis('equal')\n"
   ]
  },
  {
   "cell_type": "markdown",
   "id": "israeli-chicago",
   "metadata": {},
   "source": [
    "<span style='color: green'>**\\[Motivate\\]**</span> <br>\n",
    "B) How do you explain the difference between the two cluster assignments in point A)?"
   ]
  },
  {
   "cell_type": "markdown",
   "id": "unable-office",
   "metadata": {},
   "source": [
    "*******************\n",
    "Kmeans result in different clusterings due to the algorithm converging to different local minima, which depends on initalization. As seen by the examples, even though there may be a more optimal clustering that would globally minimize the distances from points to clusters, the algorithm seeks out to minimize the objective function by 'simply' assigning a point to the nearest cluster. So even if an optimal solution exists by assigning points that are further away to the cluster and moving the centroid significantly, this will not happen if this assingment includes temporarily assigning a point to a cluster that is not the immediate nearest. \n",
    "******************"
   ]
  },
  {
   "cell_type": "markdown",
   "id": "statutory-management",
   "metadata": {},
   "source": [
    "### Task 1.1.3 (4 points)\n",
    "<span style='color: green'>**\\[Compute by hand\\]**</span> the dendrogram for the dataset of Task 1.1.1. using **average-link**."
   ]
  },
  {
   "cell_type": "markdown",
   "id": "specified-template",
   "metadata": {},
   "source": [
    "*******************\n",
    "**YOUR ANSWER HERE**\n",
    "******************"
   ]
  },
  {
   "cell_type": "markdown",
   "id": "first-benjamin",
   "metadata": {},
   "source": [
    "### Task 1.1.4 (2 points)\n",
    "A) <span style='color: green'>**\\[Compute by hand\\]**</span> the density-based clustering DBSCAN for the dataset of Task 1.1.1 using $\\epsilon=3.5$ and $MinPts=2$. Present at least 2 iterations of the algorithm.<br> \n"
   ]
  },
  {
   "cell_type": "markdown",
   "id": "american-emperor",
   "metadata": {},
   "source": [
    "*******************\n",
    "**YOUR ANSWER HERE**\n",
    "******************"
   ]
  },
  {
   "cell_type": "markdown",
   "id": "checked-briefs",
   "metadata": {},
   "source": [
    "\n",
    "B) <span style='color: green'>**\\[Motivate\\]**</span> the difference between the clusters obtained with DBSCAN and those obtained with KMeans in Task 1.1.1."
   ]
  },
  {
   "cell_type": "markdown",
   "id": "settled-programming",
   "metadata": {},
   "source": [
    "*******************\n",
    "**YOUR ANSWER HERE**\n",
    "******************"
   ]
  },
  {
   "cell_type": "markdown",
   "id": "spanish-fields",
   "metadata": {},
   "source": [
    "## Task 1.2 Elliptic data set (2 points)\n",
    "<span style='color: green'>**\\[Motivate\\]**</span> <br> \n",
    "After looking at the dataset _below_, you want to detect the red outlier point, assuming you know that it is an outlier. \n",
    "\n",
    "Which approach would be the most obvious to find the red outlier? Please (1) check the box and (2) motivate your answer below:\n",
    "- [ ] Distance based approach (with parameteres $\\pi=0.5$, $\\epsilon=2$ and euclidean distance)\n",
    "- [ ] Angle based approach\n",
    "- [ ] Depth based approach"
   ]
  },
  {
   "cell_type": "code",
   "execution_count": 8,
   "id": "suspended-legend",
   "metadata": {},
   "outputs": [
    {
     "data": {
      "image/png": "[encoded data removed]",
      "text/plain": [
       "<Figure size 640x480 with 1 Axes>"
      ]
     },
     "metadata": {},
     "output_type": "display_data"
    }
   ],
   "source": [
    "D_new = np.array([[1.0, 2.0], # Red \n",
    "                [1., 1.0],\n",
    "                [0.5, 0.5],\n",
    "                [1, 0.5],\n",
    "                [0.5, 1],\n",
    "                [0.75, 0.75]\n",
    "                 ])\n",
    "\n",
    "plt.scatter(D_new[:, 0], D_new[:, 1], alpha=0.8, c = ['red' if i == 0 else 'blue' for i in range(len(D_new))])\n",
    "plt.axis([0, 2, 0,3])\n",
    "plt.show()"
   ]
  },
  {
   "cell_type": "markdown",
   "id": "removable-tuesday",
   "metadata": {},
   "source": [
    "*******************\n",
    "**YOUR ANSWER HERE**\n",
    "******************"
   ]
  },
  {
   "cell_type": "markdown",
   "id": "southeast-extraction",
   "metadata": {},
   "source": [
    "## Task 1.3 Theoretical questions\n",
    "### Task 1.3.1 Triangle inequality (2 points)\n",
    "<span style='color: green'>**\\[Prove\\]**</span> 1. You are given a measure $d(x,y) = |x-y|$, prove that the measure is a metric"
   ]
  },
  {
   "cell_type": "markdown",
   "id": "single-column",
   "metadata": {},
   "source": [
    "*******************\n",
    "**YOUR ANSWER HERE**\n",
    "******************"
   ]
  },
  {
   "cell_type": "markdown",
   "id": "56dbd657",
   "metadata": {},
   "source": [
    "<span style='color: green'>**\\[Prove\\]**</span> 2. If $d(p_1,p_2)\\leq\\frac{d(p_2,p_3)}{2}$, then $d(p_1,p_2)\\leq(p_1,p_3)$"
   ]
  },
  {
   "cell_type": "markdown",
   "id": "412c9cdc",
   "metadata": {},
   "source": [
    "*******************\n",
    "**YOUR ANSWER HERE**\n",
    "******************"
   ]
  },
  {
   "cell_type": "markdown",
   "id": "515bf551",
   "metadata": {},
   "source": [
    "### Task 1.3.2 Kernel trick (9 points)\n",
    "<span style='color: green'>**\\[Motivation\\]**</span> A) What is a positive-definite kernel $K(x,x')$ of two vectors $x,x'\\in\\mathbb{R}^n$. "
   ]
  },
  {
   "cell_type": "markdown",
   "id": "9e0696e0",
   "metadata": {},
   "source": [
    "*******************\n",
    "$K$ is a positive semidefinite kernel of two vectors if and only if it is symmetric, ie:\n",
    "\n",
    "$$\n",
    "\\begin{align}\n",
    "\\tag{1}\n",
    "K(\\mathbf{x}_i, \\mathbf{x}_j) = K(\\mathbf{x}_j, \\mathbf{x}_i)\n",
    "\\end{align} \n",
    "$$\n",
    "\n",
    "and if the corresponding kernel matrix $\\mathbf{K}$ evaluated on any set of points in the input space is positive definte, that is\n",
    "$$\n",
    "\\mathbf{a}^T \\mathbf{K}\\mathbf{a} \\geq 0 \\text{ for all vectors } \\mathbf{a} \\in \\R^n\n",
    "$$ \n",
    "which implies: \n",
    "\n",
    "$$\n",
    "\\begin{align}\n",
    "\\tag{2}\n",
    "\\sum^n_{i = 1} \\sum^n_{j = 1} a_i a_j K(\\mathbf{x}_i, \\mathbf{x}_j) \\geq 0, \\quad \\text{for all } a_i \\in \\R, i \\in [1, n] \n",
    "\\end{align}\n",
    "$$\n",
    "\n",
    "******************"
   ]
  },
  {
   "cell_type": "markdown",
   "id": "8249d778",
   "metadata": {},
   "source": [
    "<span style='color: green'>**\\[Motivate\\]**</span> B) Please explain briefly what is the kernel trick method."
   ]
  },
  {
   "cell_type": "markdown",
   "id": "81d0ba08",
   "metadata": {},
   "source": [
    "*******************\n",
    "                                                                \n",
    "Instead of working with the original input features of the data, the kernel trick method consists of transforming the data by a kernel function andrepresenting the data by a kernel matrix $\\mathbf{K}$, and using the kernel matrix for all relevant analysis.\n",
    "\n",
    "******************"
   ]
  },
  {
   "cell_type": "markdown",
   "id": "43fe260d",
   "metadata": {},
   "source": [
    "<span style='color: green'>**\\[Prove\\]**</span> C)\n",
    "Let two positive-definite kernels $K_1(x,x')$ and $K_2(x,x')$.  <br> Show that functions $K_1(x,x')+K_2(x,x')$ and $K_1(x,x')K_2(x,x')$ are also positive-definite kernels."
   ]
  },
  {
   "cell_type": "markdown",
   "id": "a30b07b7",
   "metadata": {},
   "source": [
    "*******************\n",
    "\n",
    "Since $K_1$ and $K_2$ individually satisfy the properties of a positive-definite kernel, ie:\n",
    "\n",
    "$$\n",
    "\\begin{aligned}\n",
    "\\tag{3}\n",
    "K(x, x') = K(x', x), && \\quad \\sum^n_{i = 1} \\sum^n_{j = 1} a_i a_j K(\\mathbf{x}_i, \\mathbf{x}_j) \\geq 0, \\quad \\text{for all } a_i \\in \\R, i \\in [1, n]\n",
    "\\end{aligned}\n",
    "$$\n",
    "For both $K_1$ and $K_2$, we can show that the sum of two positive definite kernels will also be symmetric. We define $K_s(x, x')$ as the sum, whereby we get:\n",
    "\n",
    "$$\n",
    "\\begin{aligned}\n",
    "K_s(x,x') = K_1(x, x') + K_2(x, x') = K_1(x', x) + K(x', x) = K_s(x', x)\n",
    "\\end{aligned}\n",
    "$$\n",
    "\n",
    "By using the symmetry of the individual kernels. Moreover we can show the kernel sum $K_s(x, x')$ will also be positive definite by: \n",
    "\n",
    "$$\n",
    "\\begin{aligned}\n",
    "\\sum^n_{i = 1} \\sum^n_{j = 1} a_i a_j K_s(\\mathbf{x}_i, \\mathbf{x}_j)  \n",
    "    &= \\sum^n_{i = 1} \\sum^n_{j = 1} a_i a_j \\left( K_1(\\mathbf{x}_i, \\mathbf{x}_j) + K_2(\\mathbf{x}_i, \\mathbf{x}_j) \\right) \\\\\n",
    "    &=\\sum^n_{i = 1} \\sum^n_{j = 1} a_i a_j  K_1(\\mathbf{x}_i, \\mathbf{x}_j) + \\sum^n_{i = 1} \\sum^n_{j = 1} a_i a_j  K_2(\\mathbf{x}_i, \\mathbf{x}_j)\n",
    "\\end{aligned}\n",
    "$$\n",
    "\n",
    "Since both $K_1$ and $K_2$ are positive definite as shown in eq. (3), both terms on the right hand side are non-negative, and therefore the sum will also be non-negative, meaning: \n",
    "$$\n",
    "\\sum^n_{i = 1} \\sum^n_{j = 1} a_i a_j K_s(\\mathbf{x}_i, \\mathbf{x}_j) \\geq 0\n",
    "$$\n",
    "\n",
    "Likewise for the product of two kernels, we can show this produces as symmetric kernel, $K_p$:\n",
    "\n",
    "$$\n",
    "\\begin{aligned}\n",
    "K_p(x, x') = K_1(x, x')\\cdot K_2(x, x') = K_1(x', x)  \\cdot K_2(x', x) = K_p(x', x)\n",
    "\\end{aligned}\n",
    "$$\n",
    "\n",
    "Since $K_1$ and $K_2$ are symmetric, and the scalar product is a symmetric operator, we get that $K_p$, the product between two kernels is also symmetric. \n",
    "\n",
    "Next, we can show that the product of two positive definite kernels is also positve definite:\n",
    "\n",
    "$$\n",
    "\\begin{aligned}\n",
    "\\sum^n_{i = 1} \\sum^n_{j = 1} a_i a_j K_p(\\mathbf{x}_i, \\mathbf{x}_j)  \n",
    "    &= \\sum^n_{i = 1} \\sum^n_{j = 1} a_i a_j \\left( K_1(\\mathbf{x}_i, \\mathbf{x}_j) \\cdot K_2(\\mathbf{x}_i, \\mathbf{x}_j) \\right) \n",
    "\\end{aligned}\n",
    "$$\n",
    "\n",
    "Since both $K_1$ and $K_2$ are positive definite kernels, the product $K_1(\\mathbf{x}_i, \\mathbf{x}_j) \\cdot K_2(\\mathbf{x}_i, \\mathbf{x}_j)$ will also be positive definite/non-negative. The sum of many non-negative terms will also be non-negative, and so we obtain: \n",
    "\n",
    "$$\n",
    "\\begin{aligned}\n",
    "\\sum^n_{i = 1} \\sum^n_{j = 1} a_i a_j K_p(\\mathbf{x}_i, \\mathbf{x}_j)  = \\sum^n_{i = 1} \\sum^n_{j = 1} a_i a_j \\left( K_1(\\mathbf{x}_i, \\mathbf{x}_j) \\cdot K_2(\\mathbf{x}_i, \\mathbf{x}_j) \\right)  \\geq 0\n",
    "\\end{aligned}\n",
    "$$\n",
    "\n",
    "******************"
   ]
  },
  {
   "cell_type": "markdown",
   "id": "ef94954d",
   "metadata": {},
   "source": [
    "<span style='color: green'>**\\[Prove\\]**</span> D) Prove that $K(x,x')=e^{2 ln(x^{\\top}x')-(x-x')^{\\top}(x-x')}$ is a positive-definite kernel. "
   ]
  },
  {
   "cell_type": "markdown",
   "id": "0d7f812c",
   "metadata": {},
   "source": [
    "*******************\n",
    "Firstly, it can be seen that the kernel is symmetric. By slighty re-writing the kernel function, we obtain: \n",
    "\n",
    "$$\n",
    "\\begin{align}\n",
    "K(x, x') = e^{2 \\ln (x^T x')} e^{-(x-x')^T(x-x')}\n",
    "\\end{align}\n",
    "$$\n",
    "Where the product $x^T x'$ is symmetric, since the dot prodyct is symmetric, hence $\\ln (x^T x') = \\ln (x'^T x)$ will also be symmetric, and the first term will be symmetric.\n",
    "\n",
    "Moreover the second term, $(x-x')^T(x - x')$ is symmetric due to being a square product, meaning $(x-x')^T(x - x') = (x'-x)^T(x' - x)$. And so the second term is also symmetric. As shown in the previous task, the product of symmetric kernels will result in a symmetric kernel. \n",
    "\n",
    "By further simplyfying the kernel function, we get:\n",
    "$$\n",
    "\\begin{align}\n",
    "K(x, x') &= e^{2 \\ln (x^T x')} e^{-(x-x')^T(x-x')} \\\\\n",
    "    &= (x^Tx')^2 e^{-(x-x')^T(x-x')}\n",
    "\\end{align}\n",
    "$$\n",
    "\n",
    "to prove the kernel is positve definite, we must then show that\n",
    "\n",
    "$$\n",
    "\\begin{align}\n",
    "\\sum^n_{i = 1} \\sum^n_{j = 1} a_i a_j K_p(\\mathbf{x}_i, \\mathbf{x}_j) = \\sum^n_{i = 1} \\sum^n_{j = 1} a_i a_j (x^Tx')^2 e^{-(x-x')^T(x-x')} \\geq 0\n",
    "\\end{align}\n",
    "$$\n",
    "\n",
    "holds true. It can bee seen that the term $(x^Tx')^2$ is squared and therefore always non-negative. The remaning term $e^{-(x-x')^T(x-x')}$ is an exponential function, that can never be zero nor negative. \n",
    "Hence the kernel is a product of two non-negative terms, and therefore will be positive definite. \n",
    "\n",
    "******************"
   ]
  },
  {
   "cell_type": "markdown",
   "id": "metropolitan-artwork",
   "metadata": {},
   "source": [
    "# Part 2 Exploratory data analysis\n",
    "In this section, you will perform preliminary analysis on your data. These preliminary analysis are useful to understand how the data behaves, before running complex algorithms.<br>\n",
    "\n",
    "This dataset is about dota2 heroes check ```datatainfo.md``` for more infomation. "
   ]
  },
  {
   "cell_type": "code",
   "execution_count": 9,
   "id": "guilty-vegetable",
   "metadata": {},
   "outputs": [
    {
     "data": {
      "text/html": [
       "<div>\n",
       "<style scoped>\n",
       "    .dataframe tbody tr th:only-of-type {\n",
       "        vertical-align: middle;\n",
       "    }\n",
       "\n",
       "    .dataframe tbody tr th {\n",
       "        vertical-align: top;\n",
       "    }\n",
       "\n",
       "    .dataframe thead th {\n",
       "        text-align: right;\n",
       "    }\n",
       "</style>\n",
       "<table border=\"1\" class=\"dataframe\">\n",
       "  <thead>\n",
       "    <tr style=\"text-align: right;\">\n",
       "      <th></th>\n",
       "      <th>HERO</th>\n",
       "      <th>A</th>\n",
       "      <th>STR</th>\n",
       "      <th>STR+</th>\n",
       "      <th>STR30</th>\n",
       "      <th>AGI</th>\n",
       "      <th>AGI+</th>\n",
       "      <th>AGI30</th>\n",
       "      <th>INT</th>\n",
       "      <th>INT+</th>\n",
       "      <th>...</th>\n",
       "      <th>VS-D</th>\n",
       "      <th>VS-N</th>\n",
       "      <th>TR</th>\n",
       "      <th>COL</th>\n",
       "      <th>HP/S</th>\n",
       "      <th>MP/S</th>\n",
       "      <th>Complexity</th>\n",
       "      <th>Legs</th>\n",
       "      <th>Release</th>\n",
       "      <th>Artifact</th>\n",
       "    </tr>\n",
       "  </thead>\n",
       "  <tbody>\n",
       "    <tr>\n",
       "      <th>0</th>\n",
       "      <td>Abaddon</td>\n",
       "      <td>Universal</td>\n",
       "      <td>22</td>\n",
       "      <td>2.2</td>\n",
       "      <td>85.8</td>\n",
       "      <td>23</td>\n",
       "      <td>1.3</td>\n",
       "      <td>60.7</td>\n",
       "      <td>19</td>\n",
       "      <td>1.6</td>\n",
       "      <td>...</td>\n",
       "      <td>1800</td>\n",
       "      <td>800</td>\n",
       "      <td>0.6</td>\n",
       "      <td>27</td>\n",
       "      <td>3.20</td>\n",
       "      <td>1.20</td>\n",
       "      <td>1</td>\n",
       "      <td>2</td>\n",
       "      <td>2005</td>\n",
       "      <td>1</td>\n",
       "    </tr>\n",
       "    <tr>\n",
       "      <th>1</th>\n",
       "      <td>Alchemist</td>\n",
       "      <td>Strength</td>\n",
       "      <td>23</td>\n",
       "      <td>2.7</td>\n",
       "      <td>101.3</td>\n",
       "      <td>22</td>\n",
       "      <td>1.5</td>\n",
       "      <td>65.5</td>\n",
       "      <td>25</td>\n",
       "      <td>1.8</td>\n",
       "      <td>...</td>\n",
       "      <td>1800</td>\n",
       "      <td>800</td>\n",
       "      <td>0.6</td>\n",
       "      <td>27</td>\n",
       "      <td>2.55</td>\n",
       "      <td>1.25</td>\n",
       "      <td>1</td>\n",
       "      <td>2</td>\n",
       "      <td>2006</td>\n",
       "      <td>0</td>\n",
       "    </tr>\n",
       "    <tr>\n",
       "      <th>2</th>\n",
       "      <td>Ancient Apparition</td>\n",
       "      <td>Intelligence</td>\n",
       "      <td>20</td>\n",
       "      <td>1.9</td>\n",
       "      <td>75.1</td>\n",
       "      <td>20</td>\n",
       "      <td>2.2</td>\n",
       "      <td>83.8</td>\n",
       "      <td>23</td>\n",
       "      <td>3.1</td>\n",
       "      <td>...</td>\n",
       "      <td>1800</td>\n",
       "      <td>800</td>\n",
       "      <td>0.6</td>\n",
       "      <td>27</td>\n",
       "      <td>2.25</td>\n",
       "      <td>1.15</td>\n",
       "      <td>2</td>\n",
       "      <td>0</td>\n",
       "      <td>2009</td>\n",
       "      <td>0</td>\n",
       "    </tr>\n",
       "    <tr>\n",
       "      <th>3</th>\n",
       "      <td>Anti-Mage</td>\n",
       "      <td>Agility</td>\n",
       "      <td>19</td>\n",
       "      <td>1.6</td>\n",
       "      <td>65.4</td>\n",
       "      <td>24</td>\n",
       "      <td>2.8</td>\n",
       "      <td>105.2</td>\n",
       "      <td>12</td>\n",
       "      <td>1.8</td>\n",
       "      <td>...</td>\n",
       "      <td>1800</td>\n",
       "      <td>800</td>\n",
       "      <td>0.6</td>\n",
       "      <td>27</td>\n",
       "      <td>2.65</td>\n",
       "      <td>0.60</td>\n",
       "      <td>1</td>\n",
       "      <td>2</td>\n",
       "      <td>2004</td>\n",
       "      <td>0</td>\n",
       "    </tr>\n",
       "    <tr>\n",
       "      <th>4</th>\n",
       "      <td>Arc Warden</td>\n",
       "      <td>Agility</td>\n",
       "      <td>22</td>\n",
       "      <td>2.6</td>\n",
       "      <td>97.4</td>\n",
       "      <td>20</td>\n",
       "      <td>3.0</td>\n",
       "      <td>107.0</td>\n",
       "      <td>24</td>\n",
       "      <td>2.6</td>\n",
       "      <td>...</td>\n",
       "      <td>1800</td>\n",
       "      <td>800</td>\n",
       "      <td>0.7</td>\n",
       "      <td>27</td>\n",
       "      <td>2.45</td>\n",
       "      <td>1.20</td>\n",
       "      <td>3</td>\n",
       "      <td>2</td>\n",
       "      <td>2012</td>\n",
       "      <td>0</td>\n",
       "    </tr>\n",
       "  </tbody>\n",
       "</table>\n",
       "<p>5 rows × 33 columns</p>\n",
       "</div>"
      ],
      "text/plain": [
       "                 HERO             A  STR  STR+  STR30  AGI  AGI+  AGI30  INT  \\\n",
       "0             Abaddon     Universal   22   2.2   85.8   23   1.3   60.7   19   \n",
       "1           Alchemist      Strength   23   2.7  101.3   22   1.5   65.5   25   \n",
       "2  Ancient Apparition  Intelligence   20   1.9   75.1   20   2.2   83.8   23   \n",
       "3           Anti-Mage       Agility   19   1.6   65.4   24   2.8  105.2   12   \n",
       "4          Arc Warden       Agility   22   2.6   97.4   20   3.0  107.0   24   \n",
       "\n",
       "   INT+  ...  VS-D  VS-N   TR  COL  HP/S  MP/S  Complexity  Legs  Release  \\\n",
       "0   1.6  ...  1800   800  0.6   27  3.20  1.20           1     2     2005   \n",
       "1   1.8  ...  1800   800  0.6   27  2.55  1.25           1     2     2006   \n",
       "2   3.1  ...  1800   800  0.6   27  2.25  1.15           2     0     2009   \n",
       "3   1.8  ...  1800   800  0.6   27  2.65  0.60           1     2     2004   \n",
       "4   2.6  ...  1800   800  0.7   27  2.45  1.20           3     2     2012   \n",
       "\n",
       "   Artifact  \n",
       "0         1  \n",
       "1         0  \n",
       "2         0  \n",
       "3         0  \n",
       "4         0  \n",
       "\n",
       "[5 rows x 33 columns]"
      ]
     },
     "execution_count": 9,
     "metadata": {},
     "output_type": "execute_result"
    }
   ],
   "source": [
    "toy = df\n",
    "data_np = toy.to_numpy()\n",
    "headers = ['HERO','A','STR','STR+','STR30','AGI','AGI+','AGI30','INT','INT+','INT30','T','T+','T30','MS','AR','DMG_MIN','DMG_MAX','RG','AS','BAT','ATK_PT','ATK_BS','VS-D','VS-N','TR','COL','HP/S','MP/S','Complexity','Legs','Release','Artifact']\n",
    "X = data_np[:,2:]\n",
    "y = data_np[:,1]\n",
    "rows, cols = np.shape(X)\n",
    "toy.head()"
   ]
  },
  {
   "cell_type": "markdown",
   "id": "passive-ottawa",
   "metadata": {},
   "source": [
    "## Task 2.1 Correlation matrix\n",
    "### Task 2.1.1 (5 points)\n",
    "A) <span style='color: green'>**\\[Implement\\]**</span> in the code-box below the **correlation matrix** (not covariance matrix) among all the attributes. <br>\n",
    "<font color='red'>To CHECK your results you can use **numpy.corrcoef**.</font>"
   ]
  },
  {
   "cell_type": "code",
   "execution_count": 10,
   "id": "occasional-seeking",
   "metadata": {},
   "outputs": [
    {
     "ename": "ValueError",
     "evalue": "not enough values to unpack (expected 2, got 0)",
     "output_type": "error",
     "traceback": [
      "\u001b[1;31m---------------------------------------------------------------------------\u001b[0m",
      "\u001b[1;31mValueError\u001b[0m                                Traceback (most recent call last)",
      "\u001b[1;32mc:\\Users\\sofie\\OneDrive\\Skrivebord\\Uni\\F24\\Data Mining\\dm2024-exercises-main\\handins\\handin1.ipynb Cell 40\u001b[0m line \u001b[0;36m1\n\u001b[0;32m     <a href='vscode-notebook-cell:/c%3A/Users/sofie/OneDrive/Skrivebord/Uni/F24/Data%20Mining/dm2024-exercises-main/handins/handin1.ipynb#X54sZmlsZQ%3D%3D?line=9'>10</a>\u001b[0m X \u001b[39m=\u001b[39m data_np\n\u001b[0;32m     <a href='vscode-notebook-cell:/c%3A/Users/sofie/OneDrive/Skrivebord/Uni/F24/Data%20Mining/dm2024-exercises-main/handins/handin1.ipynb#X54sZmlsZQ%3D%3D?line=10'>11</a>\u001b[0m Corr \u001b[39m=\u001b[39m correlation_matrix(X)\n\u001b[1;32m---> <a href='vscode-notebook-cell:/c%3A/Users/sofie/OneDrive/Skrivebord/Uni/F24/Data%20Mining/dm2024-exercises-main/handins/handin1.ipynb#X54sZmlsZQ%3D%3D?line=11'>12</a>\u001b[0m plt\u001b[39m.\u001b[39;49mmatshow(Corr)\n\u001b[0;32m     <a href='vscode-notebook-cell:/c%3A/Users/sofie/OneDrive/Skrivebord/Uni/F24/Data%20Mining/dm2024-exercises-main/handins/handin1.ipynb#X54sZmlsZQ%3D%3D?line=12'>13</a>\u001b[0m plt\u001b[39m.\u001b[39mcolorbar()\n",
      "File \u001b[1;32mc:\\Users\\sofie\\anaconda3\\envs\\dm24\\lib\\site-packages\\matplotlib\\pyplot.py:2248\u001b[0m, in \u001b[0;36mmatshow\u001b[1;34m(A, fignum, **kwargs)\u001b[0m\n\u001b[0;32m   2244\u001b[0m     ax \u001b[39m=\u001b[39m gca()\n\u001b[0;32m   2245\u001b[0m \u001b[39melse\u001b[39;00m:\n\u001b[0;32m   2246\u001b[0m     \u001b[39m# Extract actual aspect ratio of array and make appropriately sized\u001b[39;00m\n\u001b[0;32m   2247\u001b[0m     \u001b[39m# figure.\u001b[39;00m\n\u001b[1;32m-> 2248\u001b[0m     fig \u001b[39m=\u001b[39m figure(fignum, figsize\u001b[39m=\u001b[39mfigaspect(A))\n\u001b[0;32m   2249\u001b[0m     ax \u001b[39m=\u001b[39m fig\u001b[39m.\u001b[39madd_axes([\u001b[39m0.15\u001b[39m, \u001b[39m0.09\u001b[39m, \u001b[39m0.775\u001b[39m, \u001b[39m0.775\u001b[39m])\n\u001b[0;32m   2250\u001b[0m im \u001b[39m=\u001b[39m ax\u001b[39m.\u001b[39mmatshow(A, \u001b[39m*\u001b[39m\u001b[39m*\u001b[39mkwargs)\n",
      "File \u001b[1;32mc:\\Users\\sofie\\anaconda3\\envs\\dm24\\lib\\site-packages\\matplotlib\\figure.py:3609\u001b[0m, in \u001b[0;36mfigaspect\u001b[1;34m(arg)\u001b[0m\n\u001b[0;32m   3607\u001b[0m \u001b[39m# Extract the aspect ratio of the array\u001b[39;00m\n\u001b[0;32m   3608\u001b[0m \u001b[39mif\u001b[39;00m isarray:\n\u001b[1;32m-> 3609\u001b[0m     nr, nc \u001b[39m=\u001b[39m arg\u001b[39m.\u001b[39mshape[:\u001b[39m2\u001b[39m]\n\u001b[0;32m   3610\u001b[0m     arr_ratio \u001b[39m=\u001b[39m nr \u001b[39m/\u001b[39m nc\n\u001b[0;32m   3611\u001b[0m \u001b[39melse\u001b[39;00m:\n",
      "\u001b[1;31mValueError\u001b[0m: not enough values to unpack (expected 2, got 0)"
     ]
    }
   ],
   "source": [
    "def correlation_matrix(X):\n",
    "    corr = None\n",
    "    # YOUR CODE HERE\n",
    "    \n",
    "    \n",
    "    \n",
    "    # YOUR CODE HERE \n",
    "    return corr\n",
    "    \n",
    "X = data_np\n",
    "Corr = correlation_matrix(X)\n",
    "plt.matshow(Corr)\n",
    "plt.colorbar()"
   ]
  },
  {
   "cell_type": "markdown",
   "id": "suburban-volume",
   "metadata": {},
   "source": [
    "<span style='color: green'>**\\[Motivate\\]**</span><br>\n",
    "B) By observing the  **correlation matrix** in A), which pair(s) of different features has the highest correlation?"
   ]
  },
  {
   "cell_type": "markdown",
   "id": "median-silver",
   "metadata": {},
   "source": [
    "*******************\n",
    "**YOUR ANSWER HERE**\n",
    "******************"
   ]
  },
  {
   "cell_type": "markdown",
   "id": "higher-senator",
   "metadata": {},
   "source": [
    "<span style='color: green'>**\\[Motivate\\]**</span><br>\n",
    "C) What does it mean that two features are highly correlated? <br>"
   ]
  },
  {
   "cell_type": "markdown",
   "id": "creative-breath",
   "metadata": {},
   "source": [
    "*******************\n",
    "**YOUR ANSWER HERE**\n",
    "******************"
   ]
  },
  {
   "cell_type": "markdown",
   "id": "knowing-springfield",
   "metadata": {},
   "source": [
    "<span style='color: green'>**\\[Motivate\\]**</span><br>\n",
    "D) Based on the features of the data in Part 2 and your answer in C), did you expect the observation of B)? <br>"
   ]
  },
  {
   "cell_type": "markdown",
   "id": "configured-weekly",
   "metadata": {},
   "source": [
    "*******************\n",
    "**YOUR ANSWER HERE**\n",
    "******************"
   ]
  },
  {
   "cell_type": "markdown",
   "id": "average-content",
   "metadata": {},
   "source": [
    "### Task 2.1.2 (1 points)\n",
    "<span style='color: green'>**\\[Motivate\\]**</span><br>\n",
    "\n",
    "Plot the correlation matrix running the code below. (You may need to zoom on it)\n",
    "What is the relationship between the correlation matrix and the covariance matrix? (1) Check the correct box below and (2) motivate your answer.\n",
    "\n",
    "- [ ] The correlation matrix contains the unnormalized covariance values\n",
    "- [ ] The correlation matrix contains the normalized covariance values\n",
    "- [ ] The covariance matrix contains the variance of the correlation\n",
    "\n",
    "<font color='red'>Do NOT just choose an answer. Please clarify WHY this is the correct answer.</font>"
   ]
  },
  {
   "cell_type": "code",
   "execution_count": null,
   "id": "productive-newark",
   "metadata": {},
   "outputs": [],
   "source": [
    "df_to_plot = df.drop(['HERO','A'],axis=1)\n",
    "\n",
    "fig, ax = plt.subplots(figsize=(20,20))\n",
    "sns.heatmap(df_to_plot.corr(),annot=True,linewidths=1, cmap=\"YlGnBu\", annot_kws={\"fontsize\":10}, vmax=1, ax=ax)\n",
    "plt.title('Correlation')\n",
    "plt.show()"
   ]
  },
  {
   "cell_type": "markdown",
   "id": "dimensional-behalf",
   "metadata": {},
   "source": [
    "*******************\n",
    "**YOUR ANSWER HERE**\n",
    "******************"
   ]
  },
  {
   "cell_type": "markdown",
   "id": "interior-shelter",
   "metadata": {},
   "source": [
    "### Task 2.1.3 (3 points)\n",
    "\n",
    "In this task, we reason about the covariance matrices.\n",
    "\n",
    "<span style='color: green'>**\\[Implement\\]**</span> code for normalizing the features of the dota2 dataset using (1) standard score normalization and (2) range normalization. Finally, (3) plot the **covariance** matrices for\n",
    "1. The unnormalized data\n",
    "2. The [standard score normalized features](https://en.wikipedia.org/wiki/Standard_score)\n",
    "3. The range (min-max) normalized features"
   ]
  },
  {
   "cell_type": "code",
   "execution_count": null,
   "id": "broadband-reverse",
   "metadata": {},
   "outputs": [],
   "source": [
    "# Data\n",
    "X = data_np\n",
    "\n",
    "# YOUR CODE HERE\n",
    "\n",
    "\n",
    "# YOUR CODE HERE"
   ]
  },
  {
   "cell_type": "markdown",
   "id": "governmental-decision",
   "metadata": {},
   "source": [
    "### Task 2.1.4 (3 points)\n",
    "<span style='color: green'>**\\[Motivate\\]**</span> how the covariance matrix changes with different normalization schemes and reason on why such behaviour appears.\n",
    "You should notice some differences. (1) Check the correct box below and (2) motivate your answer.\n",
    "\n",
    "\n",
    "\n",
    "- [ ] Range normalization preserves the variance. Therefore, features are directly comparable within the matrix.\n",
    "- [ ] Standard score normalization preserves the variance. Therefore, features are directly comparable within the matrix.\n",
    "- [ ] Both methods normalize in such a way, that it makes sense to compare the different covariance values to each other within the matrix. \n",
    "- [ ] None of the methods normalize in such a way that it makes sense to compare the different covariance values to each other.\n",
    "\n",
    "<font color='red'>Do NOT just choose an answer. Please clarify WHY this is the correct answer.</font>"
   ]
  },
  {
   "cell_type": "markdown",
   "id": "representative-adapter",
   "metadata": {},
   "source": [
    "*******************\n",
    "**YOUR ANSWER HERE**\n",
    "******************"
   ]
  },
  {
   "cell_type": "markdown",
   "id": "pleased-entry",
   "metadata": {},
   "source": [
    "## Task 2.2 Normal distribution\n",
    "### Task 2.2.1 (6 points)\n",
    "Sometimes it is convenient to know whether a variable is close to a normal distribution.\n",
    "\n",
    "<span style='color: green'>**\\[Implement\\]**</span> a method norm_dist that: <br>\n",
    "    \n",
    "1) **Inputs**: \n",
    "    * the number of buckets $b$ \n",
    "    * a vector $x$ of values \n",
    "2) First, compute the histogram of a Gaussian variable with mean $\\mu$ corresponding to the sample mean of $x$ and $\\sigma^2$ corresponding to the sample variance of $x$. Second, calculate the histogram of $x$ using $b$ buckets. \n",
    "3) **Output**: the sum of the absolute differences of the buckets between the two histograms computed in 2). The sum of the differences is computed as \n",
    "$$\\sum_{i=1}^b |H_X(i) - H_{\\mathcal{N}}(i)|$$ \n",
    "where $H_X(i)$ is the i-th bucket of the histogram of $x$ and $H_\\mathcal{N}(i)$ is the i-th bucket of the hisotgram obtained from the normal distribution $\\mathcal{N}(\\mu,\\sigma^2)$. \n",
    "\n",
    "<font color='red'>You can use the norm function from Scipy to get the normal distribution to subtract from.</font>"
   ]
  },
  {
   "cell_type": "code",
   "execution_count": null,
   "id": "willing-bobby",
   "metadata": {},
   "outputs": [],
   "source": [
    "from scipy.stats import norm\n",
    "\n",
    "## Our data comes from the variable X\n",
    "X = data_np\n",
    "def norm_dist(x, b): \n",
    "    dist = 0\n",
    "    ### YOUR CODE HERE\n",
    "    \n",
    "    \n",
    "    ### YOUR CODE HERE\n",
    "    return dist"
   ]
  },
  {
   "cell_type": "markdown",
   "id": "coated-mission",
   "metadata": {},
   "source": [
    "### Task 2.2.2 (6 point)\n",
    "A) <span style='color: green'>**\\[Motivate\\]**</span> which drawbacks the method in Task 2.2.1 has. "
   ]
  },
  {
   "cell_type": "markdown",
   "id": "afraid-sharp",
   "metadata": {},
   "source": [
    "*******************\n",
    "**YOUR ANSWER HERE**\n",
    "******************"
   ]
  },
  {
   "cell_type": "markdown",
   "id": "integrated-blowing",
   "metadata": {},
   "source": [
    "B) <span style='color: green'>**\\[Motivate\\]**</span> whether the method in Task 2.2.1  is robust to outliers. "
   ]
  },
  {
   "cell_type": "markdown",
   "id": "worldwide-blade",
   "metadata": {},
   "source": [
    "*******************\n",
    "**YOUR ANSWER HERE**\n",
    "******************"
   ]
  },
  {
   "cell_type": "markdown",
   "id": "quarterly-crown",
   "metadata": {},
   "source": [
    "<span style='color: green'>**\\[Implement\\]**</span><br>\n",
    "C) Run your code on each columns of the dataset. "
   ]
  },
  {
   "cell_type": "code",
   "execution_count": null,
   "id": "governing-ceramic",
   "metadata": {},
   "outputs": [],
   "source": [
    "# YOUR CODE HERE\n",
    "\n",
    "\n",
    "\n",
    "# YOUR CODE HERE"
   ]
  },
  {
   "cell_type": "markdown",
   "id": "competent-female",
   "metadata": {},
   "source": [
    "<span style='color: green'>**\\[Motivate\\]**</span><br>\n",
    "D) What is the column with the largest distance? "
   ]
  },
  {
   "cell_type": "markdown",
   "id": "useful-workplace",
   "metadata": {},
   "source": [
    "*******************\n",
    "**YOUR ANSWER HERE**\n",
    "******************"
   ]
  },
  {
   "cell_type": "markdown",
   "id": "directed-delay",
   "metadata": {},
   "source": [
    "<span style='color: green'>**\\[Motivate\\]**</span><br>\n",
    "E) Do the features follow a normal distribution?"
   ]
  },
  {
   "cell_type": "markdown",
   "id": "instant-match",
   "metadata": {},
   "source": [
    "*******************\n",
    "**YOUR ANSWER HERE**\n",
    "******************"
   ]
  },
  {
   "cell_type": "markdown",
   "id": "increased-cyprus",
   "metadata": {},
   "source": [
    "### Task 2.2.3 (1 points)\n",
    "\n",
    "Now look at the method below. This is called a Quantile-Quantile [Q-Q plot](https://en.wikipedia.org/wiki/Q%E2%80%93Q_plot). \n",
    "\n",
    "<span style='color: green'>**\\[Motivate\\]**</span> why this method is more robust than the one we proposed in Task 2.2.1."
   ]
  },
  {
   "cell_type": "code",
   "execution_count": null,
   "id": "environmental-battery",
   "metadata": {
    "tags": []
   },
   "outputs": [],
   "source": [
    "from scipy import stats\n",
    "from matplotlib import gridspec\n",
    "\n",
    "plt.tight_layout()\n",
    "_, n = X.shape\n",
    "print(headers, X.shape)\n",
    "fig = plt.figure(constrained_layout=True, figsize=(8, 50))\n",
    "spec = gridspec.GridSpec(ncols=2, nrows=(n-1), figure=fig)\n",
    "for i in np.arange(2,n):\n",
    "    x = toy[headers[i]]\n",
    "    r = i-1\n",
    "    qq = fig.add_subplot(spec[r, 1]) \n",
    "    stats.probplot(x, plot=qq)\n",
    "    h = fig.add_subplot(spec[r, 0])\n",
    "    h.set_title(headers[i])\n",
    "    h.hist(x, bins = 30)"
   ]
  },
  {
   "cell_type": "markdown",
   "id": "flush-harbor",
   "metadata": {},
   "source": [
    "*******************\n",
    "**YOUR ANSWER HERE**\n",
    "******************"
   ]
  },
  {
   "attachments": {},
   "cell_type": "markdown",
   "id": "collaborative-kinase",
   "metadata": {},
   "source": [
    "# Part 3 Cluster Analysis\n",
    "In this section, you will perform cluster analysis of the dataset in Part 2 and modify clustering algorithms to achieve better results. \n",
    "\n",
    "## Task 3.1\n",
    "\n",
    "### Task 3.1.1 (6 points)\n",
    "A)  <span style='color: green'>**\\[Implement\\]**</span> and plot the **silhouette coefficient** to detect the number of clusters $k$. \n",
    "\n",
    "<font color='red'>You can use the KMeans implementation from scikit-learn.</font> <br>"
   ]
  },
  {
   "cell_type": "code",
   "execution_count": null,
   "id": "25da57f3",
   "metadata": {},
   "outputs": [],
   "source": [
    "toy = df[df['A'].isin(['Universal', 'Intelligence'])]\n",
    "first = \"T+\"\n",
    "second = \"INT+\"\n",
    "X = toy[[first, second]].to_numpy()"
   ]
  },
  {
   "cell_type": "code",
   "execution_count": null,
   "id": "unknown-renaissance",
   "metadata": {},
   "outputs": [],
   "source": [
    "# Data\n",
    "X = toy[[first, second]].to_numpy()\n",
    "### YOUR CODE HERE\n",
    "\n",
    "def silhouette_coefficients(X, labels, dist_fn=np.linalg.norm):\n",
    "\n",
    "    K, counts = np.unique(labels, return_counts=True)\n",
    "    clusters = [X[labels == i] for i in K]\n",
    "    coefficients = []\n",
    "\n",
    "    for x, x_k in zip(X, labels):\n",
    "\n",
    "        int_x = np.sum(dist_fn(clusters[x_k] - x, axis= 1))/(counts[x_k] - 1) # compute int(x); substract 1 to exclude the point itself\n",
    "        ext_x = min([np.mean(dist_fn(clusters[k] - x, axis= 1)) for k in K if k != x_k]) # compute ext for alle other clusters\n",
    "\n",
    "        coefficients += [(ext_x - int_x) /(max(int_x, ext_x)) if counts[x_k] > 1 else 0 ]  # compute silhouette coefficient for each point\n",
    "     \n",
    "    return np.mean(coefficients) # return global silhouette coefficient \n"
   ]
  },
  {
   "cell_type": "code",
   "execution_count": null,
   "metadata": {},
   "outputs": [
    {
     "name": "stdout",
     "output_type": "stream",
     "text": [
      "max silhouette coefficient: 0.5, achieved with k = 3\n"
     ]
    },
    {
     "data": {
      "image/png": "[encoded data removed]",
      "text/plain": [
       "<Figure size 640x480 with 1 Axes>"
      ]
     },
     "metadata": {},
     "output_type": "display_data"
    }
   ],
   "source": [
    "from sklearn.cluster import KMeans\n",
    "\n",
    "sil_coef = []\n",
    "sklean_coef = []\n",
    "\n",
    "final_labels = []; max_coef = 0; max_k = 0\n",
    "\n",
    "for k in range(2,60):\n",
    "\n",
    "    # Run kmeans\n",
    "    kmeans = KMeans(n_clusters=k, n_init=\"auto\").fit(X)\n",
    "    labels = kmeans.labels_\n",
    "\n",
    "    # Compute silhouette coefficient\n",
    "    coef = silhouette_coefficients(X, labels)\n",
    "\n",
    "    # save clustering with highest silhouette coefficient\n",
    "    if coef > max_coef:\n",
    "        final_labels = labels\n",
    "        max_k = k\n",
    "        max_coef = coef\n",
    "\n",
    "    sil_coef += [coef]\n",
    "\n",
    "\n",
    "# Plot silhouette vs number of clusters, as well as clustering with highest silhouette coefficient\n",
    "plt.plot(range(2,60), sil_coef)\n",
    "plt.title(\"Silhouette coefficient\")\n",
    "plt.xlabel(\"number of cluster, k\")\n",
    "plt.ylabel(\"coefficient value\")\n",
    "plt.scatter(max_k, max_coef, c=\"red\")\n",
    "plt.annotate(f\"sc = {round(max_coef, ndigits=2)}, k = {max_k}\", (max_k+1, max_coef), )\n",
    "print(f\"max silhouette coefficient: {round(max_coef, ndigits=2)}, achieved with k = {max_k}\")\n"
   ]
  },
  {
   "cell_type": "markdown",
   "id": "passive-bubble",
   "metadata": {},
   "source": [
    "B) <span style='color: green'>**\\[Motivate\\]**</span> your choice of clusters $k$."
   ]
  },
  {
   "cell_type": "markdown",
   "id": "traditional-pharmacy",
   "metadata": {},
   "source": [
    "*******************\n",
    "As seen in the plot above, when iterating through kmeans clustering with number of clusters variying from 2 to 60, the value of the silhouette coefficient peaks at k = 3 with a value of 0.49 - 0.5. \n",
    "However, the value of the silhouette coefficient is not necessarily significant. The silhouette coefficient takes values between -1 to 1, with 1 indicating a point is closer to members of its own cluster, and -1 meaning it is closer to members of another cluster. \n",
    "On average our clustering has value of approx 0.5, indicating a structure just on the verge between weak and medium.\n",
    "******************"
   ]
  },
  {
   "cell_type": "markdown",
   "id": "illegal-mortgage",
   "metadata": {},
   "source": [
    "### Task 3.1.2 (1 points)\n",
    "\n",
    "<span style='color: green'>**\\[Implement\\]**</span><br>\n",
    "Run k-means on the dataset X, with the number of clusters detected in the previous exercise.\n",
    "\n",
    "<font color='red'>You can use the KMeans implementation from scikit-learn.</font> <br>"
   ]
  },
  {
   "cell_type": "code",
   "execution_count": null,
   "id": "approved-shoot",
   "metadata": {},
   "outputs": [
    {
     "data": {
      "text/plain": [
       "Text(0.5, 1.0, 'kmeans clustering with k = 3\\n and silhouette coef. = 0.5')"
      ]
     },
     "execution_count": 161,
     "metadata": {},
     "output_type": "execute_result"
    },
    {
     "data": {
      "image/png": "[encoded data removed]",
      "text/plain": [
       "<Figure size 640x480 with 1 Axes>"
      ]
     },
     "metadata": {},
     "output_type": "display_data"
    }
   ],
   "source": [
    "# Data\n",
    "X = toy[[first, second]].to_numpy()\n",
    "\n",
    "\n",
    "kmeans = KMeans(n_clusters=3, n_init=\"auto\").fit(X)\n",
    "labels = kmeans.labels_\n",
    "\n",
    "\n",
    "plt.scatter(X[:,0], X[:,1], alpha=0.8, c=labels)\n",
    "plt.title(\"kmeans clustering with k = \" + str(max_k) + \"\\n and silhouette coef. = \" + str(round(max_coef, ndigits= 2)))"
   ]
  },
  {
   "cell_type": "markdown",
   "id": "adequate-power",
   "metadata": {},
   "source": [
    "### Task 3.1.3 (6 points)\n",
    "<span style='color: green'>**\\[Implement\\]**</span> Kernel K-means and the Gaussian Kernel. \n",
    "\n",
    "The Gaussian kernel is defined as in the following equation:\n",
    "\n",
    "$$\n",
    "K\\left(\\mathbf{x}_{i}, \\mathbf{x}_{j}\\right)=\\exp \\left(-\\frac{\\left\\|\\mathbf{x}_{i}-\\mathbf{x}_{j}\\right\\|^{2}}{2 \\sigma^{2}}\\right)$$ "
   ]
  },
  {
   "cell_type": "code",
   "execution_count": null,
   "id": "previous-glasgow",
   "metadata": {},
   "outputs": [
    {
     "data": {
      "text/plain": [
       "<matplotlib.collections.PathCollection at 0x2937d7b0220>"
      ]
     },
     "execution_count": 19,
     "metadata": {},
     "output_type": "execute_result"
    },
    {
     "data": {
      "image/png": "[encoded data removed]",
      "text/plain": [
       "<Figure size 640x480 with 1 Axes>"
      ]
     },
     "metadata": {},
     "output_type": "display_data"
    }
   ],
   "source": [
    "toy = df[df['A'].isin(['Strength', 'Intelligence', 'Universal'])]\n",
    "first = \"STR30\"\n",
    "second = \"T+\"\n",
    "init=[[-1,-1],[1,2]]\n",
    "\n",
    "X = toy[[first, second]].to_numpy()\n",
    "\n",
    "# Data normalization\n",
    "X_norm = (X - X.min(0)) / X.ptp(0)\n",
    "\n",
    "def gaussian_kernel(x, y, sigma=0.2): \n",
    "    k = np.exp(-np.linalg.norm(x - y) ** 2 / (2 * (sigma ** 2)))\n",
    "    return k\n",
    "\n",
    "\n",
    "\n",
    "def kernel_kmeans(X, n_clusters, kernel=gaussian_kernel, init=[[-1,-1],[1,2]], iters=100, error=0): \n",
    "\n",
    "    n, d = X.shape\n",
    "    distances = np.zeros((n, n_clusters))\n",
    "\n",
    "    if init is None:\n",
    "        clusters = np.random.randint(n_clusters, size=(n))\n",
    "    else:\n",
    "        # Compute inital assignments\n",
    "        for i in range(n_clusters):\n",
    "            distances[:, i] = np.apply_along_axis(kernel, 1, X_norm, init[i])\n",
    "        clusters = np.argmin(distances, axis=1)\n",
    "\n",
    "\n",
    "    sqnorm = np.zeros(n_clusters)\n",
    "    avg = np.zeros((n, n_clusters))\n",
    "  \n",
    "    for _ in range(iters):\n",
    "\n",
    "        for i in range(n_clusters):\n",
    "            cluster = X_norm[clusters == i]\n",
    "            sqnorm[i] = np.mean([np.mean([kernel(a, b) for a in cluster]) for b in cluster])\n",
    "\n",
    "            for j in range(n):\n",
    "                avg[j, i] = np.mean([kernel(a, X_norm[j]) for a in cluster])\n",
    "                distances[j, i] = sqnorm[i] - 2*avg[j, i]\n",
    "            \n",
    "        clusters = np.argmin(distances, axis=1)      \n",
    "        \n",
    "    return clusters\n",
    "\n",
    "scaler = StandardScaler().fit(X_norm)\n",
    "X_scaled = scaler.transform(X_norm)\n",
    "clusters = kernel_kmeans(X_scaled, 2)\n",
    "\n",
    "plt.scatter(X_scaled[:, 0], X_scaled[:, 1], alpha=0.8, c=clusters)"
   ]
  },
  {
   "cell_type": "markdown",
   "id": "8e186498",
   "metadata": {},
   "source": [
    "### Task 3.1.4 (1 points)\n",
    "<span style='color: green'>**\\[Motivate\\]**</span> Run both kmeans and kernel K-means on data. (with a given init)\n",
    "which method is better at isolating universal classified heroes and why?"
   ]
  },
  {
   "cell_type": "code",
   "execution_count": null,
   "id": "94a47ec8",
   "metadata": {},
   "outputs": [],
   "source": [
    "init=[[-1,-1],[1,2]]\n",
    "kmeans = KMeans(n_clusters=2,init=init).fit(X_norm)\n",
    "# plt.scatter(X_norm[:, 0], X_norm[:, 1], alpha=0.8, c=kmeans.labels_)"
   ]
  },
  {
   "cell_type": "code",
   "execution_count": null,
   "id": "a4083975",
   "metadata": {},
   "outputs": [
    {
     "data": {
      "text/plain": [
       "Text(0.5, 1.0, 'ground truth')"
      ]
     },
     "execution_count": 21,
     "metadata": {},
     "output_type": "execute_result"
    },
    {
     "data": {
      "image/png": "[encoded data removed]",
      "text/plain": [
       "<Figure size 1600x480 with 3 Axes>"
      ]
     },
     "metadata": {},
     "output_type": "display_data"
    }
   ],
   "source": [
    "clusters = kernel_kmeans(X_norm, 2, init=init)\n",
    "# plt.scatter(X_norm[:, 0], X_norm[:, 1], alpha=0.8, c=clusters)\n",
    "\n",
    "fig, (ax1, ax2, ax3) = plt.subplots(1, 3)\n",
    "fig.set_figwidth(16)\n",
    "ax1.scatter(X_norm[:, 0], X_norm[:, 1], alpha=0.8, c=kmeans.labels_)\n",
    "ax1.set_title(\"kmeans\")\n",
    "ax2.scatter(X_norm[:, 0], X_norm[:, 1], alpha=0.8, c=clusters)\n",
    "ax2.set_title(\"kernel kmeans\")\n",
    "ax3.scatter(X_norm[:, 0], X_norm[:, 1], alpha=0.8, c=toy['A'].map(color_map))\n",
    "ax3.set_title(\"ground truth\")"
   ]
  },
  {
   "cell_type": "markdown",
   "id": "1b3ea9ec",
   "metadata": {},
   "source": [
    "*******************\n",
    "The kernel kmeans seems to be performing better, grouping the two other classes together, whilst normal kmeans doens't seem to be able to do this. K-means considers boundaries to be linear, and by using a kernel to map the data points to af different space, kernel kmeans can circumvent this limitation.\n",
    "******************"
   ]
  },
  {
   "attachments": {},
   "cell_type": "markdown",
   "id": "transparent-junction",
   "metadata": {},
   "source": [
    "\n",
    "## Task 3.2 Clustering quality\n",
    "\n",
    "### Task 3.2.1 (6 points)\n",
    "<span style='color: green'>**\\[Implement\\]**</span> **Conditional Entropy (CE)** as a measure for clustering quality.\n",
    "\n",
    "Entropy for a clustering is $H(C) = - \\sum_{i=1}^{k}{p_{C_i} \\log {p_{C_i}}}$, where $p_{C_i}= \\frac{|C_i|}{n}$\n",
    "\n",
    "The **Conditional Entropy** of $T$ **given** $C$ is given by: \n",
    "$$\\text{CE}(T|C)=-\\sum\\limits^{|C|}_{i=1}\\sum\\limits^{|T|}_{j=1}\\frac{n_{ij}}{n}\\log\\frac{n_{ij}}{n_i}$$\n",
    "where $n_{i}$ is the total number of points in cluster $C_i$ and $n_{ij}$ is the number of common points between clusters $C_i$ and $T_j$\n",
    "\n",
    "\n",
    "**Hint**: First implement **Entropy** and then **Conditional Entropy**."
   ]
  },
  {
   "cell_type": "code",
   "execution_count": 330,
   "id": "opposed-research",
   "metadata": {},
   "outputs": [],
   "source": [
    "def entropy(C):\n",
    "    # Let C be a list of clusters\n",
    "    n = len(C)\n",
    "    _, counts = np.unique(C, return_counts=True)\n",
    "    return -np.sum([(c/n)*np.log(c/n) for c in counts if c > 0])\n",
    "\n",
    "\n",
    "def CE(C, T):\n",
    "    n = len(T)\n",
    "    _, C1k, C1  = np.unique(T, return_inverse=True, return_index=True)\n",
    "    _, C2k, C2 = np.unique(C, return_inverse=True, return_index=True)\n",
    "\n",
    "    table = np.zeros((len(C2k), len(C1k)))\n",
    "    ce = 0\n",
    "\n",
    "    for i, j in zip(C2, C1):\n",
    "        table[i, j] += 1\n",
    "    \n",
    "    for row in table:\n",
    "        n_row = np.sum(row)\n",
    "        ce += np.sum([(r/n)*np.log(r/n_row) for r in row if r > 0])\n",
    "    \n",
    "    return -ce\n"
   ]
  },
  {
   "attachments": {},
   "cell_type": "markdown",
   "id": "sized-opportunity",
   "metadata": {},
   "source": [
    "### Task 3.2.2 (3 points)\n",
    "<span style='color: green'>**\\[Implement\\]**</span>\n",
    "Print the Conditional Entropy (implementation from the Task 3.2.1) among the class labels $y$ and the clusters you found with k-means in Task 3.1.1. <br>"
   ]
  },
  {
   "cell_type": "code",
   "execution_count": 331,
   "id": "criminal-pitch",
   "metadata": {
    "pycharm": {
     "name": "#%%\n"
    }
   },
   "outputs": [
    {
     "name": "stdout",
     "output_type": "stream",
     "text": [
      "conditional entropy is 0.32, and true class entropy is 0.69\n"
     ]
    },
    {
     "data": {
      "text/plain": [
       "<matplotlib.collections.PathCollection at 0x1dbe55c3b50>"
      ]
     },
     "execution_count": 331,
     "metadata": {},
     "output_type": "execute_result"
    },
    {
     "data": {
      "image/png": "[encoded data removed]",
      "text/plain": [
       "<Figure size 1200x480 with 2 Axes>"
      ]
     },
     "metadata": {},
     "output_type": "display_data"
    }
   ],
   "source": [
    "toy = df[df['A'].isin(['Universal', 'Intelligence'])]\n",
    "first = \"T+\"\n",
    "second = \"INT+\"\n",
    "X = toy[[first, second]].to_numpy()\n",
    "\n",
    "kmeans = KMeans(n_clusters=3, n_init=\"auto\").fit(X)\n",
    "labels = kmeans.labels_\n",
    "\n",
    "class_labels = np.array(toy[\"A\"])\n",
    "\n",
    "print(f\"conditional entropy is {round(CE(labels, class_labels), ndigits=2)}, and true class entropy is {round(entropy(class_labels), ndigits=2)}\")\n",
    "\n",
    "fig, (ax1, ax2) = plt.subplots(1,2)\n",
    "fig.set_figwidth(12)\n",
    "ax1.scatter(X[:,0], X[:,1], alpha=0.8, c=toy['A'].map(color_map))\n",
    "ax2.scatter(X[:,0], X[:,1], alpha=0.8, c=labels)"
   ]
  },
  {
   "cell_type": "markdown",
   "id": "facial-soundtrack",
   "metadata": {},
   "source": [
    "<span style='color: green'>**\\[Motivate\\]**</span><br>\n",
    "A) Reason about the measure, is the measure influenced by the size of the clusters?  "
   ]
  },
  {
   "cell_type": "markdown",
   "id": "southern-convert",
   "metadata": {},
   "source": [
    "******************* \n",
    "\n",
    "Even though the true clustering only consists of two classes, more clusters (in this case three) of a smaller size seem to result in a smaller conditional entropy. This might be due to the conditional entropy measure favoring having a few clusters with a higher agreement of assignment with the true classes (ie, more 'pure') and a few clusters with a large overlapping assignment between classes, rather than having multiple clusters with a equal amount of overlapping in each. \n",
    "\n",
    "As shown in the figure above, we have two clusters that have little overlap with different classes, whilst the middle clustering contains a mixture of classes. This clustering gives a smaller conditional entropy compared to using kmeans with two clusters, where both clusters then have overlapping classes.\n",
    "\n",
    "******************"
   ]
  },
  {
   "cell_type": "markdown",
   "id": "informational-police",
   "metadata": {},
   "source": [
    "<span style='color: green'>**\\[Motivate\\]**</span><br>\n",
    "B) What does the measure capture? "
   ]
  },
  {
   "cell_type": "markdown",
   "id": "understanding-settle",
   "metadata": {},
   "source": [
    "*******************\n",
    "Conditional entropy captures how much 'disorder' a clustering has. If the clustering matches the true classes entirely, the entropy is zero. If the clustering is completely random (T and C are independent), ie. brings no information of the classes, the conditional entropy is the same value as the entropy of the true clustering (or log(k))\n",
    "******************"
   ]
  },
  {
   "cell_type": "markdown",
   "id": "delayed-subject",
   "metadata": {
    "pycharm": {
     "name": "#%% md\n"
    }
   },
   "source": [
    "### Task 3.2.3 (4 points)\n",
    "<span style='color: green'>**\\[Implement\\]**</span><br>\n",
    "Provide an implementation of purity. Recall that purity is the weighted sum of the individual $purity_i = \\frac{1}{|C_i|} \\max_{j=1..k}\\{n_{ij}\\}$ values where $n_{ij}$ is the number of common points in cluster $C_i$\n",
    "and ground-truth cluster $j$ obtained from the labels $y$."
   ]
  },
  {
   "cell_type": "code",
   "execution_count": 332,
   "id": "surrounded-consciousness",
   "metadata": {},
   "outputs": [
    {
     "name": "stdout",
     "output_type": "stream",
     "text": [
      "Purity: 0.8225806451612904, CE: 0.3242555754341256\n"
     ]
    }
   ],
   "source": [
    "toy = df[df['A'].isin(['Universal', 'Intelligence'])]\n",
    "first = \"T+\"\n",
    "second = \"INT+\"\n",
    "X = toy[[first, second]].to_numpy()\n",
    "T = np.array(toy[\"A\"]) # Ground-truth clusters\n",
    "\n",
    "kmeans = KMeans(n_clusters=3, n_init=\"auto\").fit(X)\n",
    "C = kmeans.labels_ # Clusters obtained by k-means\n",
    "\n",
    "## C is the clustering from k-means and T is the ground truth cluster assignments.\n",
    "def purity(C, T):\n",
    "    purity = 0\n",
    "\n",
    "    n = len(T)\n",
    "    _, C_k, C  = np.unique(C, return_inverse=True, return_index=True)\n",
    "    _, T_k, T = np.unique(T, return_inverse=True, return_index=True)\n",
    "\n",
    "    table = np.zeros((len(C_k), len(T_k)))\n",
    "\n",
    "    for i, j in zip(C, T):\n",
    "        table[i, j] += 1\n",
    "    \n",
    "    for row in table:\n",
    "        purity += max(row)\n",
    "    \n",
    "    return purity/n\n",
    "\n",
    "print('Purity: {}, CE: {}'.format(purity(C,T), CE(C,T)))"
   ]
  },
  {
   "attachments": {},
   "cell_type": "markdown",
   "id": "phantom-reform",
   "metadata": {
    "pycharm": {
     "name": "#%% md\n"
    }
   },
   "source": [
    "### Task 3.2.4 (2 points)\n",
    "A) <span style='color: green'>**\\[Implement\\]**</span><br>\n",
    "\n",
    "Print the purity of the clusters obtained by k-means in Task 3.1.1. \n"
   ]
  },
  {
   "cell_type": "code",
   "execution_count": 333,
   "id": "civilian-details",
   "metadata": {},
   "outputs": [
    {
     "name": "stdout",
     "output_type": "stream",
     "text": [
      "Purity: 0.82, CE: 0.33\n"
     ]
    }
   ],
   "source": [
    "toy = df[df['A'].isin(['Universal', 'Intelligence'])]\n",
    "first = \"T+\"\n",
    "second = \"INT+\"\n",
    "X = toy[[first, second]].to_numpy()\n",
    "\n",
    "T = np.array(toy[\"A\"]) # Ground-truth clusters\n",
    "\n",
    "kmeans = KMeans(n_clusters=3, n_init=\"auto\").fit(X)\n",
    "C = kmeans.labels_ # Clusters obtained by k-means\n",
    "\n",
    "print(f'Purity: {round(purity(C,T), ndigits=2)}, CE: {round(CE(C,T), ndigits=2)}')"
   ]
  },
  {
   "cell_type": "markdown",
   "id": "modified-sector",
   "metadata": {},
   "source": [
    "B) <span style='color: green'>**\\[Motivate\\]**</span><br>\n",
    "\n",
    "Compare purity with **Conditional Entropy (CE)**. Which measure is preferable? (1) Check the correct box below and (2) motivate your answer.\n",
    "\n",
    "- [X] **CE** is preferable because it uses all the points\n",
    "- [ ] Purity is preferable because it is less computational demanding\n",
    "- [ ] **CE** is preferrable because it does not favor small clusters\n",
    "- [ ] Purity is preferrable because it tends to favor balanced clusters."
   ]
  },
  {
   "cell_type": "markdown",
   "id": "accepted-influence",
   "metadata": {},
   "source": [
    "*******************\n",
    "Conditional entropy is preferable because information from all data points is taken into account, and not just the largest class within each cluster; purity does not consider the distribution of other classes within the cluster as CE does.\n",
    "\n",
    "By using all points CE is also less sensitive to imbalences in class and cluster sizes.\n",
    "\n",
    "******************"
   ]
  },
  {
   "attachments": {},
   "cell_type": "markdown",
   "id": "generic-state",
   "metadata": {},
   "source": [
    "## Task 3.3 Gaussian Mixtures and the EM-Algorithm\n",
    "### Task 3.3.1 (6 point)\n",
    "<span style='color: green'>**\\[Implement\\]**</span> the EM-algorithm for the Gaussian Mixture Model.\n",
    "<br> You can consult [DMA] Section 13.3.2, for a description of how the algorithm works in this particular setup."
   ]
  },
  {
   "cell_type": "code",
   "execution_count": 334,
   "id": "sensitive-weekly",
   "metadata": {},
   "outputs": [],
   "source": [
    "from utilities.gmm import GMM\n",
    "from scipy.stats import multivariate_normal\n",
    "class MyGMM(GMM):\n",
    "    def initialize_parameters(self, X):\n",
    "        \"\"\"\n",
    "            This function should utilize information from the data to initialize\n",
    "            the parameters of the model.\n",
    "            In particular, it should compute initial values for mu, Sigma, and pi.\n",
    "            \n",
    "            The function corresponds to line 2-4 in Algorithm 13.3 in [DMA, p. 349]\n",
    "            Note, that K can be retrieved as `self.K`.\n",
    "\n",
    "            Args:\n",
    "                X (matrix, [n, d]): Data to be used for initialization.\n",
    "\n",
    "            Returns:\n",
    "                Tuple (mu, Sigma, pi), \n",
    "                    mu has size        [K, d]\n",
    "                    Sigma has size     [K, d, d]\n",
    "                    pi has size        [K]\n",
    "        \"\"\"\n",
    "        n, d = X.shape\n",
    "\n",
    "        # Get range of X and initialize random mu (uniformly) for each cluster\n",
    "        X_min, X_max = (np.min(X, axis=0), np.max(X, axis=0))        \n",
    "        self.mu = np.stack([np.random.uniform(X_min[i], X_max[i], self.K) for i in range(d)],  axis=-1)\n",
    "\n",
    "        # initialize K identity matrices        \n",
    "        self.Sigma = np.stack([np.identity(d)]*self.K)\n",
    "\n",
    "        # Equal probability for simplicity.\n",
    "        self.pi = np.ones((self.K,)) / self.K \n",
    "\n",
    "        return self.mu, self.Sigma, self.pi \n",
    "\n",
    "\n",
    "    def posterior(self, X):\n",
    "        \"\"\"\n",
    "            The E-step of the EM algorithm. \n",
    "            Returns the posterior probability p(Y|X)\n",
    "\n",
    "            This function corresponds to line 8 in Algorithm 13.3 in [DMA, p. 349]\n",
    "            Note, that mean and covariance matrices can be accessed by `self.mu` and `self.Sigma`, respectively.\n",
    "            \n",
    "            Args:\n",
    "                X (matrix, [n,  d]): Data to compute posterior for.\n",
    "\n",
    "            Returns:\n",
    "                Matrix of size        [n, K]\n",
    "        \"\"\"\n",
    "\n",
    "        probs_pi = np.stack([self.prob(X, self.mu[i], self.Sigma[i])*self.pi[i] for i in range(self.K)], axis=1)\n",
    "        sum_probs_pi = np.sum(probs_pi, axis=1)\n",
    "\n",
    "        return probs_pi / sum_probs_pi[:, np.newaxis]\n",
    "    \n",
    "    \n",
    "    def prob(self, X, mu, sigma):\n",
    "        mvn = multivariate_normal(mean=mu, cov=sigma)\n",
    "        return mvn.pdf(X)\n",
    "\n",
    "\n",
    "    def m_step(self, X, P):\n",
    "        \"\"\"\n",
    "            Update the estimates of mu, Sigma, and pi, given the data `X` and the current\n",
    "            posterior probabilities `P`.\n",
    "\n",
    "            This function corresponds to line 10-12 in Algorithm 13.3 and Eqn. (13.11-13) in [DMA, p. 349].\n",
    "            \n",
    "            Args:\n",
    "                X (matrix, [n, d]): Data matrix\n",
    "                P (matrix, [n, K]): The posterior probabilities for the n samples.\n",
    "\n",
    "            Returns:\n",
    "                Tuple (mu, Sigma, pi), \n",
    "                    mu has size        [K, d]\n",
    "                    Sigma has size    [K, d, d]\n",
    "                    pi has size        [K]\n",
    "        \"\"\"\n",
    "        n, _ = X.shape \n",
    "\n",
    "        P_sum = np.sum(P, axis=0)[:, np.newaxis]\n",
    "        \n",
    "        mu_hat = np.einsum('nk,nd->kd', P, X)/P_sum\n",
    "\n",
    "        mean_diff = X - mu_hat[:, np.newaxis]\n",
    "        Si_hat = np.einsum('nk,knd,knp->kdp', P, mean_diff, mean_diff)/P_sum[:,np.newaxis]\n",
    "\n",
    "        pi_hat = P_sum/n\n",
    "\n",
    "        return  mu_hat, Si_hat, pi_hat\n",
    "\n"
   ]
  },
  {
   "cell_type": "markdown",
   "id": "political-wireless",
   "metadata": {},
   "source": [
    "### Task 3.3.2 (2 points)\n",
    "\n",
    "<span style='color: green'>**\\[Implement\\]**</span><br>\n",
    "A) Run your EM-algorithm for GaussianMixtures<br> "
   ]
  },
  {
   "cell_type": "code",
   "execution_count": 341,
   "id": "68a2142c",
   "metadata": {},
   "outputs": [
    {
     "name": "stdout",
     "output_type": "stream",
     "text": [
      "Purity: 0.92, conditional entropy: 0.27\n"
     ]
    },
    {
     "data": {
      "image/png": "[encoded data removed]",
      "text/plain": [
       "<Figure size 1200x480 with 2 Axes>"
      ]
     },
     "metadata": {},
     "output_type": "display_data"
    }
   ],
   "source": [
    "toy = df[df['A'].isin(['Intelligence', 'Strength'])]\n",
    "first = \"T+\"\n",
    "second = \"STR+\"\n",
    "\n",
    "labels = toy[['A']].to_numpy()\n",
    "labels = np.unique(labels, return_inverse=True)[1]\n",
    "X = toy[[first, second]].to_numpy()\n",
    "X_norm = (X - X.min(0)) / X.ptp(0)\n",
    "\n",
    "gmm = MyGMM(2)\n",
    "gmm.fit(X_norm, max_iter=1000)\n",
    "clusters = gmm.predict(X_norm)\n",
    "\n",
    "fig, (ax1, ax2) = plt.subplots(1,2)\n",
    "fig.set_figwidth(12)\n",
    "ax1.scatter(X_norm[:, 0], X_norm[:, 1], alpha=0.8, c=clusters)\n",
    "ax2.scatter(X_norm[:, 0], X_norm[:, 1], alpha=0.8, c=toy['A'].map(color_map))\n",
    "\n",
    "print(f\"Purity: {round(purity(clusters, labels), ndigits=2)}, conditional entropy: {round(CE(clusters, labels), ndigits=2)}\")"
   ]
  },
  {
   "cell_type": "markdown",
   "id": "7d60e5df",
   "metadata": {},
   "source": [
    "<span style='color: green'>**\\[Motivate\\]**</span><br>\n",
    "B) What are the advantages and disadvantages of this approach?<br> "
   ]
  },
  {
   "cell_type": "markdown",
   "id": "5f8058f8",
   "metadata": {},
   "source": [
    "*******************\n",
    "EM does not do a hard assignment of points, but provides a probability of a point belonging to a cluster, which can better capture uncertainty of assignment/the uncertainty of the data.\n",
    "\n",
    "Moreover, due to EM being probabilistic, and not bases on hard assignment, it is less sensitive to outliers and can better handle overlapping clusters.\n",
    "\n",
    "******************"
   ]
  },
  {
   "cell_type": "markdown",
   "id": "published-culture",
   "metadata": {},
   "source": [
    "# Part 4 Outlier detection\n",
    "In this exercise we will work with outlier detection techniques and analyze their performance on the small dataset. Before starting the exercise, run the code below. \n"
   ]
  },
  {
   "cell_type": "code",
   "execution_count": null,
   "id": "explicit-isolation",
   "metadata": {},
   "outputs": [],
   "source": [
    "toy = df[df['A'].isin(['Intelligence', 'Strength'])]\n",
    "first = \"T+\"\n",
    "second = \"STR+\"\n",
    "X = toy[[first, second]].to_numpy()\n",
    "\n",
    "X_norm = (X - X.min(0)) / X.ptp(0)"
   ]
  },
  {
   "cell_type": "markdown",
   "id": "royal-mumbai",
   "metadata": {},
   "source": [
    "## Task 4.1 (DBoutliers)\n",
    "We will now compare two outlier detection techniques.\n",
    "### Task 4.1.1 (6 points)\n",
    "<span style='color: green'>**\\[Implement\\]**</span> a simple distance-based outlier detector. This is the distance-based outlier detection from the lectures, where a point is considered an outlier if at most a fraction $pi$ of the other points have a distance less of than $eps$ to it."
   ]
  },
  {
   "cell_type": "code",
   "execution_count": null,
   "id": "grave-ownership",
   "metadata": {},
   "outputs": [],
   "source": [
    "def DBOutliers(X, eps, pi): \n",
    "    outliers = None\n",
    "    ### YOUR STARTS CODE HERE\n",
    "    \n",
    "    \n",
    "    ### YOUR CODE ENDS HERE\n",
    "    return outliers"
   ]
  },
  {
   "cell_type": "markdown",
   "id": "relative-somewhere",
   "metadata": {},
   "source": [
    "### Task 4.1.2 (2 points)\n",
    "A) <span style='color: green'>**\\[Implement\\]**</span>\n",
    "DBOutliers requires tuning the parameters eps, pi. Run the code from Task 4.1.1 with different choices of eps, pi \n",
    "\n",
    "**Note** that the data is normalized. Choose two ranges with **at least** 4 values each.  "
   ]
  },
  {
   "cell_type": "code",
   "execution_count": null,
   "id": "hollywood-permission",
   "metadata": {},
   "outputs": [],
   "source": [
    "### YOUR CODE HERE\n",
    "\n",
    "### YOUR CODE HERE"
   ]
  },
  {
   "cell_type": "markdown",
   "id": "developmental-simulation",
   "metadata": {},
   "source": [
    "B) <span style='color: green'>**\\[Motivate\\]**</span><br>\n",
    "\n",
    "**Present** the results  and **discuss** how the results vary with respect to (1) eps and (2) pi."
   ]
  },
  {
   "cell_type": "markdown",
   "id": "satellite-stanford",
   "metadata": {},
   "source": [
    "*******************\n",
    "**YOUR ANSWER HERE**\n",
    "******************"
   ]
  },
  {
   "cell_type": "markdown",
   "id": "spoken-reset",
   "metadata": {},
   "source": [
    "### Task 4.1.3 (3 points)\n",
    "**NOTE** This is hard but also fun. Since it is not impacting the grade too much, you can choose to invent something new.\n",
    "\n",
    "A) Propose and <span style='color: green'>**\\[Implement\\]**</span> a heuristic method to tune parameters eps, pi. "
   ]
  },
  {
   "cell_type": "code",
   "execution_count": null,
   "id": "express-racing",
   "metadata": {},
   "outputs": [],
   "source": [
    "def tune_dboutliers(X): \n",
    "    eps = 0\n",
    "    pi = 0\n",
    "    ### YOUR STARTS CODE HERE\n",
    "    \n",
    "    \n",
    "    ### YOUR ENDS CODE HERE\n",
    "    return eps, pi"
   ]
  },
  {
   "cell_type": "markdown",
   "id": "vulnerable-threshold",
   "metadata": {},
   "source": [
    "B) <span style='color: green'>**\\[Motivate\\]**</span> your algorithm, its main idea, its strengths and its weaknesses"
   ]
  },
  {
   "cell_type": "markdown",
   "id": "laden-progressive",
   "metadata": {},
   "source": [
    "*******************\n",
    "**YOUR ANSWER HERE**\n",
    "******************"
   ]
  },
  {
   "cell_type": "markdown",
   "id": "derived-hanging",
   "metadata": {},
   "source": [
    "## Task 4.2 LOF (2 points)\n",
    "<span style='color: green'>**\\[Motivate\\]**</span><br>\n",
    "Using the parameters eps=0.18, pi=0.2 compare the results of DBOutliers with those obtained by LOF implemented in Week 9. What outliers do you find?"
   ]
  },
  {
   "cell_type": "code",
   "execution_count": null,
   "id": "electric-blackjack",
   "metadata": {},
   "outputs": [],
   "source": [
    "### YOUR CODE HERE "
   ]
  },
  {
   "cell_type": "markdown",
   "id": "bigger-faith",
   "metadata": {},
   "source": [
    "*******************\n",
    "**YOUR ANSWER HERE**\n",
    "******************"
   ]
  }
 ],
 "metadata": {
  "kernelspec": {
   "display_name": "Python 3",
   "language": "python",
   "name": "python3"
  },
  "language_info": {
   "codemirror_mode": {
    "name": "ipython",
    "version": 3
   },
   "file_extension": ".py",
   "mimetype": "text/x-python",
   "name": "python",
   "nbconvert_exporter": "python",
   "pygments_lexer": "ipython3",
   "version": "3.8.18"
  },
  "vscode": {
   "interpreter": {
    "hash": "b0fa6594d8f4cbf19f97940f81e996739fb7646882a419484c72d19e05852a7e"
   }
  }
 },
 "nbformat": 4,
 "nbformat_minor": 5
}
