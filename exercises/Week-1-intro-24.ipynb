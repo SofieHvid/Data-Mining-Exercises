{
 "cells": [
  {
   "cell_type": "markdown",
   "metadata": {},
   "source": [
    "# Week 1 - Normalization and data types\n",
    "\n",
    "This first week is going to be a warm-up week where we conider different statistical tools data types.\n",
    "\n",
    "Lets first import the libraries that we are going to need."
   ]
  },
  {
   "cell_type": "code",
   "execution_count": 2,
   "metadata": {},
   "outputs": [
    {
     "name": "stdout",
     "output_type": "stream",
     "text": [
      "Intel MKL WARNING: Support of Intel(R) Streaming SIMD Extensions 4.2 (Intel(R) SSE4.2) enabled only processors has been deprecated. Intel oneAPI Math Kernel Library 2025.0 will require Intel(R) Advanced Vector Extensions (Intel(R) AVX) instructions.\n",
      "Intel MKL WARNING: Support of Intel(R) Streaming SIMD Extensions 4.2 (Intel(R) SSE4.2) enabled only processors has been deprecated. Intel oneAPI Math Kernel Library 2025.0 will require Intel(R) Advanced Vector Extensions (Intel(R) AVX) instructions.\n"
     ]
    }
   ],
   "source": [
    "%matplotlib inline\n",
    "import matplotlib.pyplot as plt\n",
    "import numpy as np\n",
    "import scipy.stats\n",
    "import scipy as sp"
   ]
  },
  {
   "cell_type": "markdown",
   "metadata": {},
   "source": [
    "## Exercise 1: Sample statistics and normalization\n",
    "\n",
    "Let $X$ and $Y$ be two normal distributions of discrete variables with ($\\mu_X=30,\\sigma_X=7$) and ($\\mu_Y=70,\\sigma_Y=10$) that describe the *Age* and the *Weight* of a population. From $X$ and $Y$ sample the *Age* and the *Weight* of $n=500000$ individuals."
   ]
  },
  {
   "cell_type": "code",
   "execution_count": 6,
   "metadata": {},
   "outputs": [],
   "source": [
    "import numpy as np\n",
    "np.random.seed(1)\n",
    "# TODO: use np.random.normal to initialize X and Y and round() function for discretization of the data\n",
    "n = 500000\n",
    "X = np.round(np.random.normal(30,7,n))\n",
    "Y = np.round(np.random.normal(70,10,n))"
   ]
  },
  {
   "cell_type": "markdown",
   "metadata": {},
   "source": [
    "**a)** Find the mean, the median and the mode for $X,Y$. "
   ]
  },
  {
   "cell_type": "code",
   "execution_count": 7,
   "metadata": {},
   "outputs": [
    {
     "name": "stdout",
     "output_type": "stream",
     "text": [
      "Mean: 30.007646\n",
      "Median: 30.0\n",
      "Mode: 30.0\n",
      "\n",
      "Mean: 70.002704\n",
      "Median: 70.0\n",
      "Mode: 70.0\n"
     ]
    }
   ],
   "source": [
    "def count_dictionary(X):\n",
    "    \"\"\"\n",
    "    Input: certain list of data   \n",
    "    Output: counts of list elements as a dictionary \n",
    "    Example: Input: [0,1,0,2,3,2,2] => Output: {0:2, 1:1, 2:3, 3:1}\n",
    "    \"\"\"\n",
    "    # TODO: the calculation process of counts\n",
    "    # We need counts also for later when we are computing the empirical PMF\n",
    "    counts = {}  # Initialize an empty dictionary to store counts\n",
    "\n",
    "    for element in X:\n",
    "        if element in counts:\n",
    "            counts[element] += 1\n",
    "        else:\n",
    "            counts[element] = 1\n",
    "\n",
    "    return counts\n",
    "\n",
    "\n",
    "def compute_mean(X):\n",
    "    \"\"\"\n",
    "    Input: certain list of data   \n",
    "    Output: mean of this list   \n",
    "    \"\"\"\n",
    "    # TODO: the calculation process of mean\n",
    "\n",
    "    return np.mean(X)\n",
    "\n",
    "\n",
    "def compute_median(X):\n",
    "    \"\"\"\n",
    "    Input: certain list of data   \n",
    "    Output: median of this list\n",
    "    Tip:Note: If the number of data values is odd, returns the exact middle value. \n",
    "    If the number of data values is even, returns the average of the two middle values.   \n",
    "    \"\"\"\n",
    "    # TODO: the calculation process of median\n",
    "    return np.median(X)\n",
    "\n",
    "def compute_mode(X):\n",
    "    \"\"\"\n",
    "    Input: certain list of data   \n",
    "    Output: element with highest frequency \n",
    "    Hint: You can use function count_dictionary   \n",
    "    \"\"\"\n",
    "    # TODO: the calculation process of mode  \n",
    "    \n",
    "    # Use count_dictionary to get the counts\n",
    "    counts = count_dictionary(X)\n",
    "\n",
    "    # Find the element with the highest frequency (mode)\n",
    "    max_count = 0\n",
    "    mode = None\n",
    "\n",
    "    for element, count in counts.items():\n",
    "        if count > max_count:\n",
    "            max_count = count\n",
    "            mode = element\n",
    "\n",
    "    return mode\n",
    "\n",
    "\n",
    "\n",
    "x_mean = compute_mean(X)\n",
    "x_median = compute_median(X)\n",
    "x_mode = compute_mode(X)\n",
    "\n",
    "print(f\"Mean: {x_mean}\\nMedian: {x_median}\\nMode: {x_mode}\\n\" )\n",
    "\n",
    "y_mean = compute_mean(Y)\n",
    "y_median = compute_median(Y)\n",
    "y_mode = compute_mode(Y)\n",
    "\n",
    "print(f\"Mean: {y_mean}\\nMedian: {y_median}\\nMode: {y_mode}\" )"
   ]
  },
  {
   "cell_type": "markdown",
   "metadata": {},
   "source": [
    "**b)** Using the sampled data of a) find their:\\\n",
    "i) Probability Mass Function, ii) Expected Value and iii) Variance.  "
   ]
  },
  {
   "cell_type": "code",
   "execution_count": null,
   "metadata": {},
   "outputs": [],
   "source": [
    "# In order to make our life a lot easier, we will compute the probability of each element\n",
    "# Because that will be useful for the next couple of tasks\n",
    "# NOTE: We can reuse the dictionary from earlier (Task A)\n",
    "\n",
    "\n",
    "def compute_pmf(X):\n",
    "    \"\"\"\n",
    "    Input: certain list of data   \n",
    "    Output: pmf as a dictionary \n",
    "    Example: Input: [0,1,0,2,3,2,2] => Output: {0:2/7, 1:1/7, 2:3/7, 3:1/7}\n",
    "    Hint: you can use count_dictionary function from a)\n",
    "    \"\"\"\n",
    "    # TODO: return pmf of X\n",
    "\n",
    "\n",
    "def compute_ev(X):\n",
    "    \"\"\"\n",
    "    Input: certain list of data   \n",
    "    Output: expected value of X \n",
    "    Hint: you can use compute_pmf function \n",
    "    \"\"\"\n",
    "    # TODO: return the expected value of X\n",
    "\n",
    "\n",
    "def compute_variance(X):  \n",
    "    \"\"\"\n",
    "    Input: certain list of data   \n",
    "    Output: variance of X \n",
    "    Hint: you can use compute_pmf and compute_ev functions\n",
    "    \"\"\"\n",
    "    # TODO: return the variance of X\n",
    "\n",
    "\n",
    "\n",
    "    \n",
    "print(\"\\nFor X:\")\n",
    "x_pmf = compute_pmf(X)\n",
    "x_ev = compute_ev(X)\n",
    "print(f'Expected Value of X is {x_ev}')\n",
    "x_variance = compute_variance(X)\n",
    "print(f'Variance of X is {x_variance}')\n",
    "\n",
    "print(\"\\nFor Y:\")\n",
    "y_pmf = compute_pmf(Y)\n",
    "y_ev = compute_ev(Y)\n",
    "print(f'Expected Value of Y is {y_ev}')\n",
    "y_variance = compute_variance(Y)\n",
    "print(f'Variance of Y is {y_variance}')\n"
   ]
  },
  {
   "cell_type": "markdown",
   "metadata": {},
   "source": [
    "**c)** Suppose the only information we had is the sampled data $X$ and $Y$ for the *Age* and *Weight* respectively. Plot the distributions of $X$ and $Y$ and consider if the data seem to fit a normal distribution.  "
   ]
  },
  {
   "cell_type": "code",
   "execution_count": 8,
   "metadata": {},
   "outputs": [
    {
     "data": {
      "image/png": "[encoded data removed]",
      "text/plain": [
       "<Figure size 1200x600 with 2 Axes>"
      ]
     },
     "metadata": {},
     "output_type": "display_data"
    }
   ],
   "source": [
    "import scipy.stats as stats\n",
    "# TODO: use plt.hist() and bins = len(np.unique()) in order to visualize the distribution\n",
    "# Plot histograms\n",
    "plt.figure(figsize=(12, 6))\n",
    "\n",
    "plt.subplot(1, 2, 1)\n",
    "plt.hist(X, bins=len(np.unique(X)), color='blue', edgecolor='black', density=True, alpha=0.7)\n",
    "xmin, xmax = plt.xlim()\n",
    "x = np.linspace(xmin, xmax, 100)\n",
    "p = stats.norm.pdf(x, 30, 7)\n",
    "plt.plot(x, p, 'k', linewidth=2)\n",
    "plt.title('Age Distribution with Fitted Normal Distribution')\n",
    "plt.xlabel('Discrete Age')\n",
    "plt.ylabel('Probability Density')\n",
    "\n",
    "plt.subplot(1, 2, 2)\n",
    "plt.hist(Y, bins=len(np.unique(Y)), color='green', edgecolor='black', density=True, alpha=0.7)\n",
    "xmin, xmax = plt.xlim()\n",
    "x = np.linspace(xmin, xmax, 100)\n",
    "p = stats.norm.pdf(x, 70, 10)\n",
    "plt.plot(x, p, 'k', linewidth=2)\n",
    "plt.title('Weight Distribution with Fitted Normal Distribution')\n",
    "plt.xlabel('Discrete Weight')\n",
    "plt.ylabel('Probability Density')\n",
    "\n",
    "plt.tight_layout()\n",
    "plt.show()"
   ]
  },
  {
   "cell_type": "markdown",
   "metadata": {},
   "source": [
    "**d)** What is the probability of observing an age of 80 or higher?  "
   ]
  },
  {
   "cell_type": "markdown",
   "metadata": {},
   "source": [
    "HINT: To calculate the probability we have to use the probability density function of normal distribution for $X$, in range $[80,\\infty)$. Calculate the sample PDF and the expected PDF given that the distribution is normal with ($\\mu_Y=70,\\sigma_Y=10$). How close are these two values?\n",
    "\n",
    "**Answer**"
   ]
  },
  {
   "cell_type": "code",
   "execution_count": null,
   "metadata": {},
   "outputs": [],
   "source": [
    " # TODO: find the probability that weight is >80 (PDF), then find the expected PDF of the normal distribution (μ=70,σ=10) and compare the results\n"
   ]
  },
  {
   "cell_type": "markdown",
   "metadata": {},
   "source": [
    "**e)** Find the 2-dimensional mean $\\hat \\mu$ and the covariance matrix $\\widehat \\Sigma$ for these two variables.  "
   ]
  },
  {
   "cell_type": "code",
   "execution_count": null,
   "metadata": {},
   "outputs": [],
   "source": [
    "# TODO: Compute 2-Dimensional mean is the vector (E[X], E[Y])\n",
    "Z = np.c_[X, Y]\n",
    "n, d = Z.shape\n",
    "mu = None\n",
    "cov = None\n",
    "\n",
    "# TODO: The diagonal of the Covariance matrix must equal the initial covariance values of X and Y. Check your results.\n",
    "print(\"Mean:\\n\", mu)\n",
    "print(\"Cov: \\n\", cov)"
   ]
  },
  {
   "cell_type": "markdown",
   "metadata": {},
   "source": [
    "**f)** Normalize the data with _range normalization_ to the range $[0, 1]$  "
   ]
  },
  {
   "cell_type": "markdown",
   "metadata": {},
   "source": [
    "**range normalization**:\n",
    "\n",
    "$x_i^{'} = \\frac{x_i-\\min_i{x_i}}{\\max_i{x_i} - \\min_i{x_i}}$"
   ]
  },
  {
   "cell_type": "code",
   "execution_count": null,
   "metadata": {},
   "outputs": [],
   "source": [
    "# TODO: Compute the range normalization: (x_i - min)/(max - min)"
   ]
  },
  {
   "cell_type": "markdown",
   "metadata": {},
   "source": [
    "**g)** Normalize the data with _standard score normalization_ such that is has mean 0 and standard deviation 1.  "
   ]
  },
  {
   "cell_type": "markdown",
   "metadata": {},
   "source": [
    "**z-score**:\n",
    "\n",
    "$x_i^{'} = \\frac{x_i-\\hat{\\mu}}{\\hat{\\sigma}}$"
   ]
  },
  {
   "cell_type": "code",
   "execution_count": null,
   "metadata": {},
   "outputs": [],
   "source": [
    "# TODO: #  Compute the standard score normalization:, x_i = (x_i - mu)/(sigma)\n"
   ]
  },
  {
   "cell_type": "markdown",
   "metadata": {},
   "source": [
    "## Exercise 2: Robustness\n",
    "Determine whether the following statements are true or false and explain why.\n",
    " - Mean is robust against outliers\n",
    " - Median is robust against outliers\n",
    " - Standard deviation is robust against outliers\n"
   ]
  },
  {
   "cell_type": "markdown",
   "metadata": {},
   "source": [
    "**Answer:**\n",
    "\n",
    "->"
   ]
  },
  {
   "cell_type": "markdown",
   "metadata": {},
   "source": [
    "## Exercise 3: More on robustness\n",
    "Provide an informal definition of when a measure is robust. "
   ]
  },
  {
   "cell_type": "markdown",
   "metadata": {},
   "source": [
    "**Answer:**\n",
    "\n",
    "->"
   ]
  },
  {
   "cell_type": "markdown",
   "metadata": {},
   "source": [
    "## Exercise 4: Independence analysis\n",
    "Please explain what the idea of independence analysis is using contingency tables; for which kind of data is this particularly relevant? \n"
   ]
  },
  {
   "cell_type": "markdown",
   "metadata": {},
   "source": [
    "**Answer:**\n",
    "\n",
    "->\n"
   ]
  },
  {
   "cell_type": "markdown",
   "metadata": {},
   "source": [
    "## Exercise 5: Contingency table and $\\chi^2$ statistics\n",
    "In the table below,  assuming that $X_1$ is discretized into three bins, as follows: $[-2, -0.5]$, $[-0.5, 0.5]$, and $[0.5, 2]$.\n",
    "\n",
    "![Table 3.11](graphics/3.11.png)\n",
    "\n",
    "Answer the following questions\n",
    "\n",
    "**a)** Construct the contingency table between the discretized $X_1$ and $X_2$ attributes, including the row and column counts.<br>\n",
    "**b)** Construct the expected table between the discretized $X_1$ and $X_2$ attributes.<br>\n",
    "**c)** Compute the $\\chi^2$ statistic between them.<br>\n",
    "**d)** Determine whether they are dependent or not at the 5% significance level. Use the $\\chi^2$ critical values from Table 3.10.\n",
    "\n",
    "![Table 3.10](graphics/3.10.png)"
   ]
  },
  {
   "cell_type": "markdown",
   "metadata": {},
   "source": [
    "**Answer:**\n",
    "**a)**"
   ]
  },
  {
   "cell_type": "code",
   "execution_count": null,
   "metadata": {},
   "outputs": [],
   "source": [
    "\n",
    "X_1 = [0.3, -0.3, 0.44, -0.60, 0.40, 1.20, -0.12, -1.60, 1.60, -1.32]\n",
    "X_2 = [\"a\", \"b\", \"a\", \"a\", \"a\", \"b\", \"a\", \"b\", \"b\", \"a\"]\n",
    "# For sanity's sake, use code to bin X_1\n",
    "# Converting everything to numbers allow us to index in them for easier computation\n",
    "X_tmp = []\n",
    "for x in X_1:\n",
    "    if x >= -2 and x <= -0.5:\n",
    "        X_tmp.append(0)\n",
    "    elif x >= -0.5 and x <= 0.5:\n",
    "            X_tmp.append(1)\n",
    "    elif x > 0.5:\n",
    "            X_tmp.append(2)\n",
    "X_1 = X_tmp\n",
    "X_2 = [0 if x == \"a\" else 1 for x in X_2]\n",
    "\n",
    "\n",
    "# Our table looks like\n",
    "## Bins: a b\n",
    "## bin1\n",
    "## bin2\n",
    "## bin3\n",
    "b1_row = [0, 0]\n",
    "b2_row = [0, 0]\n",
    "b3_row = [0, 0]\n",
    "count_row = [0, 0, 0] # THIS ONE is for column counts\n",
    "c_table = [b1_row, b2_row, b3_row]\n",
    "# TODO: Compute contingency table c_table \n",
    "\n",
    "\n",
    "\n",
    "\n",
    "\n",
    "\n",
    "\n",
    "print(f\"Our table before row counts: {c_table}\")   "
   ]
  },
  {
   "cell_type": "markdown",
   "metadata": {},
   "source": [
    "\n",
    "**Answer:**\n",
    "**b)**"
   ]
  },
  {
   "cell_type": "code",
   "execution_count": null,
   "metadata": {},
   "outputs": [],
   "source": [
    "# Now add row counts\n",
    "# Remember these are reference variables, so modifying these\n",
    "# will also modify our table\n",
    "\n",
    "# TODO: Compute expected table\n",
    "E = [[0, 0] for _ in range(3)]\n",
    "\n",
    "\n",
    "\n",
    "print(f\"The expected table is: {E}\")"
   ]
  },
  {
   "cell_type": "markdown",
   "metadata": {},
   "source": [
    "**Answer:**\n",
    "**c)**\n",
    "\n"
   ]
  },
  {
   "cell_type": "code",
   "execution_count": null,
   "metadata": {},
   "outputs": [],
   "source": [
    "# TODO: Compute Chi_squared\n",
    "Chi_squared = 0\n",
    "print(f\"Chi_squared is: {Chi_squared}\")\n"
   ]
  },
  {
   "cell_type": "markdown",
   "metadata": {},
   "source": [
    "**Answer:**\n",
    "**d)**\n",
    "\n",
    "->"
   ]
  },
  {
   "cell_type": "markdown",
   "metadata": {},
   "source": [
    "## Exercise 6: Working with Metrics\n",
    "\n",
    "Consider the following situation: \n",
    "\n",
    "We know some distances between data points: $d(p_1,p_2)=1$, $d(p_1,p_3)=2$, $d(p_3, p_4)=1$. \n",
    "We also know that $d$ is a metric. \n",
    "\n",
    "1. What do we know about the remaining distances?\n",
    "2. Do we need to compute further distances if we want to find the two points that are most similar to $p_1$? \n",
    "3. Can $p_4$ be closer to $p_2$ than $p_3$ is to $p_2$?\n",
    "\n",
    "\n",
    "\n",
    "\n"
   ]
  },
  {
   "cell_type": "markdown",
   "metadata": {},
   "source": [
    "**Answers:**\n",
    "\n",
    "    1. \n",
    "\n",
    "    2.\n",
    "\n",
    "\n",
    "    3."
   ]
  },
  {
   "cell_type": "markdown",
   "metadata": {},
   "source": [
    "# Optional Exercises\n",
    "\n",
    "## Exercise 7: Mean absolute deviation \n",
    "Define a measure of deviation called _mean absolute deviation_ for a random variable $X$ as follows:\n",
    "\n",
    "$$\n",
    "\\frac{1}{n} \\sum_{i=1}^n |x_i - \\mu|\n",
    "$$\n",
    "\n",
    "Is this measure robust? Why or why not?"
   ]
  },
  {
   "cell_type": "markdown",
   "metadata": {},
   "source": [
    "**Answer:**\n",
    "\n",
    "->"
   ]
  },
  {
   "cell_type": "markdown",
   "metadata": {},
   "source": [
    "## Exercise 8: Correlation\n",
    "\n",
    "Consider the table below. Assume that both the attributes $X$ and $Y$ are numeric, and the\n",
    "table represents the entire population. And we know that the correlation between $X$\n",
    "and $Y$ is zero.\n",
    "1. What can you infer about the values of $Y$? (Find a relationship between $a$, $b$ and $c$)\n",
    "2. If we know there is a missing row, what can we infer about it?\n",
    "\n",
    "|$X$ | $Y$ |\n",
    "|:---:|:---:|\n",
    "|$1$|$a$|\n",
    "|$0$|$b$|\n",
    "|$1$|$c$|\n",
    "|$0$|$a$|\n",
    "|$0$|$c$|"
   ]
  },
  {
   "cell_type": "markdown",
   "metadata": {},
   "source": [
    "**Answer**\n",
    "\n",
    "    1. \n",
    "\n",
    "\n",
    "    2.\n"
   ]
  },
  {
   "cell_type": "markdown",
   "metadata": {},
   "source": [
    "# Exercise 9: 3-way contingency table\n",
    "\n",
    "Consider the 3-way contingency table for attributes $X$,$Y$,$Z$ shown in the table below.\n",
    "Compute the $\\chi^2$ metric for the correlation between $Y$ and $Z$. Are they dependent\n",
    "or independent at the 95% confidence level? See Table 3.10 above for $\\chi^2$ values.\n",
    "\n",
    "![Table 3.9](graphics/3.9.png)"
   ]
  },
  {
   "cell_type": "code",
   "execution_count": null,
   "metadata": {},
   "outputs": [],
   "source": [
    "import scipy.stats.contingency\n",
    "from scipy.stats import chi2_contingency\n",
    "# TODO: Compute contingency using chi2_contingency\n",
    "xy = np.array([[40,25],[40,35]])"
   ]
  },
  {
   "attachments": {},
   "cell_type": "markdown",
   "metadata": {},
   "source": [
    "# Exercise 10: Mixed data\n",
    "\n",
    "Consider the \"mixed\" data given in the table below. Here $X_1$ is a numeric attribute and\n",
    "$X_2$ is a categorical one. Assume that the domain of $X_2$ is given as $dom(X_2) = \\{a, b\\}$.\n",
    "Answer the following questions.\n",
    "\n",
    "**a)** What is the mean vector for this dataset?  \n",
    "**b)** What is the covariance matrix?  \n",
    "\n",
    "![Table 3.11](graphics/3.11.png)\n",
    "\n"
   ]
  },
  {
   "cell_type": "code",
   "execution_count": null,
   "metadata": {},
   "outputs": [],
   "source": [
    "fine = np.array([[0.3,1,0],[-0.3,0,1],[0.44,1,0],[-0.6,1,0],[0.4,1,0],[1.2,0,1],[-0.12,1,0],[-0.16,0,1],[1.6,0,1],[-1.32,1,0]])\n",
    "# TODO: compute the mean vector\n",
    "mu = None\n",
    "print(\"mean vector:\\n\", mu)"
   ]
  },
  {
   "cell_type": "code",
   "execution_count": null,
   "metadata": {},
   "outputs": [],
   "source": [
    "n, d = fine.shape\n",
    "# TODO: compute the covariance matrix\n",
    "cov = None\n",
    "\n",
    "print(f\"Cov: {cov}\")"
   ]
  }
 ],
 "metadata": {
  "kernelspec": {
   "display_name": "Python 3",
   "language": "python",
   "name": "python3"
  },
  "language_info": {
   "codemirror_mode": {
    "name": "ipython",
    "version": 3
   },
   "file_extension": ".py",
   "mimetype": "text/x-python",
   "name": "python",
   "nbconvert_exporter": "python",
   "pygments_lexer": "ipython3",
   "version": "3.9.18"
  },
  "vscode": {
   "interpreter": {
    "hash": "80c6980e3f02e16e7aee110d1bf85cdb98492d897883fc820eec5f24d661294b"
   }
  }
 },
 "nbformat": 4,
 "nbformat_minor": 4
}
